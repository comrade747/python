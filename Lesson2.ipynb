{
 "cells": [
  {
   "cell_type": "markdown",
   "metadata": {},
   "source": [
    "### Тема \"Вычисления с помощью Numpy\"\n",
    "#### Задание 1"
   ]
  },
  {
   "cell_type": "code",
   "execution_count": 43,
   "metadata": {},
   "outputs": [],
   "source": [
    "import numpy as np"
   ]
  },
  {
   "cell_type": "code",
   "execution_count": 44,
   "metadata": {},
   "outputs": [
    {
     "name": "stdout",
     "output_type": "stream",
     "text": [
      "[2.  8.4]\n"
     ]
    }
   ],
   "source": [
    "a = np.array([[1, 2, 3, 3, 1], [6, 8, 11, 10, 7]])\n",
    "mean_a = np.mean(a, axis=1)\n",
    "print(mean_a)"
   ]
  },
  {
   "cell_type": "markdown",
   "metadata": {},
   "source": [
    "#### Задание 2"
   ]
  },
  {
   "cell_type": "code",
   "execution_count": 46,
   "metadata": {},
   "outputs": [
    {
     "name": "stdout",
     "output_type": "stream",
     "text": [
      "[[-1.   0.   1.   1.  -1. ]\n",
      " [-2.4 -0.4  2.6  1.6 -1.4]]\n"
     ]
    }
   ],
   "source": [
    "a_centered1 = np.array([a[0:1] - mean_a[0]])[0]\n",
    "a_centered2 = np.array([a[1:2] - mean_a[1]])[0]\n",
    "a_centered = np.append(a_centered1, a_centered2, axis=0)\n",
    "print(a_centered)"
   ]
  },
  {
   "cell_type": "markdown",
   "metadata": {},
   "source": [
    "#### Задание 3"
   ]
  },
  {
   "cell_type": "code",
   "execution_count": 50,
   "metadata": {},
   "outputs": [
    {
     "name": "stdout",
     "output_type": "stream",
     "text": [
      "8.0\n",
      "0.8888888888888888\n"
     ]
    }
   ],
   "source": [
    "a_centered_sp = np.dot(a_centered[0, :], a_centered[1, :])\n",
    "print(a_centered_sp)\n",
    "cnt = a_centered.shape[0]*a_centered.shape[1]\n",
    "print (a_centered_sp/(cnt - 1))"
   ]
  },
  {
   "cell_type": "code",
   "execution_count": null,
   "metadata": {},
   "outputs": [],
   "source": []
  }
 ],
 "metadata": {
  "kernelspec": {
   "display_name": "Python 3",
   "language": "python",
   "name": "python3"
  },
  "language_info": {
   "codemirror_mode": {
    "name": "ipython",
    "version": 3
   },
   "file_extension": ".py",
   "mimetype": "text/x-python",
   "name": "python",
   "nbconvert_exporter": "python",
   "pygments_lexer": "ipython3",
   "version": "3.7.4"
  }
 },
 "nbformat": 4,
 "nbformat_minor": 2
}
