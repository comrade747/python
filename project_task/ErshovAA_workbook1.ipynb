{
 "cells": [
  {
   "cell_type": "markdown",
   "metadata": {},
   "source": [
    "# Библиотеки Python для Data Science: Numpy, Matplotlib, Scikit-learn\n",
    "# Курсовой Проект Ершова Андрея Александровича"
   ]
  },
  {
   "cell_type": "code",
   "execution_count": 1,
   "metadata": {},
   "outputs": [],
   "source": [
    "import warnings\n",
    "\n",
    "warnings.filterwarnings('ignore')"
   ]
  },
  {
   "cell_type": "code",
   "execution_count": 2,
   "metadata": {},
   "outputs": [],
   "source": [
    "import numpy as np\n",
    "import pandas as pd\n",
    "\n",
    "import matplotlib\n",
    "import matplotlib.image as img\n",
    "import matplotlib.pyplot as plt\n",
    "import seaborn as sns\n",
    "\n",
    "from scipy.spatial.distance import cdist\n",
    "\n",
    "from sklearn.model_selection import train_test_split\n",
    "from sklearn.metrics import mean_squared_error\n",
    "from sklearn.metrics import mean_absolute_error\n",
    "from sklearn.metrics import r2_score\n",
    "from sklearn.linear_model import LinearRegression\n",
    "from sklearn.ensemble import RandomForestRegressor\n",
    "\n",
    "from sklearn.model_selection import GridSearchCV\n",
    "from sklearn.ensemble import RandomForestClassifier, GradientBoostingRegressor\n",
    "\n",
    "from sklearn.preprocessing import StandardScaler\n",
    "from mpl_toolkits.mplot3d.axes3d import Axes3D\n",
    "\n",
    "from sklearn.cluster import KMeans\n",
    "from sklearn.decomposition import PCA\n",
    "from sklearn.manifold import TSNE\n",
    "\n",
    "\n",
    "%matplotlib inline\n",
    "\n",
    "pd.options.display.max_columns = 100"
   ]
  },
  {
   "cell_type": "code",
   "execution_count": 465,
   "metadata": {},
   "outputs": [],
   "source": [
    "#'c:\\\\Users\\\\andre\\\\source\\\\repos\\\\python\\\\DataScience\\\\project_task\\\\'\n",
    "TRAIN_MODEL_PATH = './train.csv'\n",
    "TEST_MODEL_PATH = './test.csv'\n"
   ]
  },
  {
   "cell_type": "code",
   "execution_count": 470,
   "metadata": {},
   "outputs": [],
   "source": [
    "df = pd.read_csv(TRAIN_MODEL_PATH)"
   ]
  },
  {
   "cell_type": "markdown",
   "metadata": {},
   "source": [
    "###### Описание датасета:\n",
    "\n",
    "$Id$ : идентификационный номер квартиры\n",
    "<br>\n",
    "$DistrictId$ : идентификационный номер района\n",
    "<br>\n",
    "$Rooms$ : количество комнат\n",
    "<br>\n",
    "$Square$ : площадь\n",
    "<br>\n",
    "$LifeSquare$ : жилая площадь\n",
    "<br>\n",
    "$KitchenSquare$ : площадь кухни\n",
    "<br>\n",
    "$Floor$ : этаж\n",
    "<br>\n",
    "$HouseFloor$ : количество этажей в доме\n",
    "<br>\n",
    "$HouseYear$ : год постройки дома\n",
    "<br>\n",
    "$Ecology\\_1, Ecology\\_2, Ecology\\_3$ : экологические показатели местности\n",
    "<br>\n",
    "$Social\\_1, Social\\_2, Social\\_3$ : социальные показатели местности\n",
    "<br>\n",
    "$Healthcare\\_1, Helthcare\\_2$ : показатели местности, связанные с охраной здоровья\n",
    "<br>\n",
    "$Shops\\_1, Shops\\_2$ : показатели, связанные с наличием магазинов, торговых центров\n",
    "<br>\n",
    "$Price$ : цена квартиры"
   ]
  },
  {
   "cell_type": "code",
   "execution_count": 468,
   "metadata": {},
   "outputs": [
    {
     "data": {
      "text/html": [
       "<div>\n",
       "<style scoped>\n",
       "    .dataframe tbody tr th:only-of-type {\n",
       "        vertical-align: middle;\n",
       "    }\n",
       "\n",
       "    .dataframe tbody tr th {\n",
       "        vertical-align: top;\n",
       "    }\n",
       "\n",
       "    .dataframe thead th {\n",
       "        text-align: right;\n",
       "    }\n",
       "</style>\n",
       "<table border=\"1\" class=\"dataframe\">\n",
       "  <thead>\n",
       "    <tr style=\"text-align: right;\">\n",
       "      <th></th>\n",
       "      <th>Id</th>\n",
       "      <th>DistrictId</th>\n",
       "      <th>Rooms</th>\n",
       "      <th>Square</th>\n",
       "      <th>LifeSquare</th>\n",
       "      <th>KitchenSquare</th>\n",
       "      <th>Floor</th>\n",
       "      <th>HouseFloor</th>\n",
       "      <th>HouseYear</th>\n",
       "      <th>Ecology_1</th>\n",
       "      <th>Social_1</th>\n",
       "      <th>Social_2</th>\n",
       "      <th>Social_3</th>\n",
       "      <th>Healthcare_1</th>\n",
       "      <th>Helthcare_2</th>\n",
       "      <th>Shops_1</th>\n",
       "      <th>Price</th>\n",
       "    </tr>\n",
       "  </thead>\n",
       "  <tbody>\n",
       "    <tr>\n",
       "      <td>count</td>\n",
       "      <td>10000.00000</td>\n",
       "      <td>10000.000000</td>\n",
       "      <td>10000.000000</td>\n",
       "      <td>10000.000000</td>\n",
       "      <td>7887.000000</td>\n",
       "      <td>10000.000000</td>\n",
       "      <td>10000.000000</td>\n",
       "      <td>10000.000000</td>\n",
       "      <td>1.000000e+04</td>\n",
       "      <td>10000.000000</td>\n",
       "      <td>10000.000000</td>\n",
       "      <td>10000.000000</td>\n",
       "      <td>10000.000000</td>\n",
       "      <td>5202.000000</td>\n",
       "      <td>10000.000000</td>\n",
       "      <td>10000.000000</td>\n",
       "      <td>10000.000000</td>\n",
       "    </tr>\n",
       "    <tr>\n",
       "      <td>mean</td>\n",
       "      <td>8383.40770</td>\n",
       "      <td>50.400800</td>\n",
       "      <td>1.890500</td>\n",
       "      <td>56.315775</td>\n",
       "      <td>37.199645</td>\n",
       "      <td>6.273300</td>\n",
       "      <td>8.526700</td>\n",
       "      <td>12.609400</td>\n",
       "      <td>3.990166e+03</td>\n",
       "      <td>0.118858</td>\n",
       "      <td>24.687000</td>\n",
       "      <td>5352.157400</td>\n",
       "      <td>8.039200</td>\n",
       "      <td>1142.904460</td>\n",
       "      <td>1.319500</td>\n",
       "      <td>4.231300</td>\n",
       "      <td>214138.857399</td>\n",
       "    </tr>\n",
       "    <tr>\n",
       "      <td>std</td>\n",
       "      <td>4859.01902</td>\n",
       "      <td>43.587592</td>\n",
       "      <td>0.839512</td>\n",
       "      <td>21.058732</td>\n",
       "      <td>86.241209</td>\n",
       "      <td>28.560917</td>\n",
       "      <td>5.241148</td>\n",
       "      <td>6.775974</td>\n",
       "      <td>2.005003e+05</td>\n",
       "      <td>0.119025</td>\n",
       "      <td>17.532614</td>\n",
       "      <td>4006.799803</td>\n",
       "      <td>23.831875</td>\n",
       "      <td>1021.517264</td>\n",
       "      <td>1.493601</td>\n",
       "      <td>4.806341</td>\n",
       "      <td>92872.293865</td>\n",
       "    </tr>\n",
       "    <tr>\n",
       "      <td>min</td>\n",
       "      <td>0.00000</td>\n",
       "      <td>0.000000</td>\n",
       "      <td>0.000000</td>\n",
       "      <td>1.136859</td>\n",
       "      <td>0.370619</td>\n",
       "      <td>0.000000</td>\n",
       "      <td>1.000000</td>\n",
       "      <td>0.000000</td>\n",
       "      <td>1.910000e+03</td>\n",
       "      <td>0.000000</td>\n",
       "      <td>0.000000</td>\n",
       "      <td>168.000000</td>\n",
       "      <td>0.000000</td>\n",
       "      <td>0.000000</td>\n",
       "      <td>0.000000</td>\n",
       "      <td>0.000000</td>\n",
       "      <td>59174.778028</td>\n",
       "    </tr>\n",
       "    <tr>\n",
       "      <td>25%</td>\n",
       "      <td>4169.50000</td>\n",
       "      <td>20.000000</td>\n",
       "      <td>1.000000</td>\n",
       "      <td>41.774881</td>\n",
       "      <td>22.769832</td>\n",
       "      <td>1.000000</td>\n",
       "      <td>4.000000</td>\n",
       "      <td>9.000000</td>\n",
       "      <td>1.974000e+03</td>\n",
       "      <td>0.017647</td>\n",
       "      <td>6.000000</td>\n",
       "      <td>1564.000000</td>\n",
       "      <td>0.000000</td>\n",
       "      <td>350.000000</td>\n",
       "      <td>0.000000</td>\n",
       "      <td>1.000000</td>\n",
       "      <td>153872.633942</td>\n",
       "    </tr>\n",
       "    <tr>\n",
       "      <td>50%</td>\n",
       "      <td>8394.50000</td>\n",
       "      <td>36.000000</td>\n",
       "      <td>2.000000</td>\n",
       "      <td>52.513310</td>\n",
       "      <td>32.781260</td>\n",
       "      <td>6.000000</td>\n",
       "      <td>7.000000</td>\n",
       "      <td>13.000000</td>\n",
       "      <td>1.977000e+03</td>\n",
       "      <td>0.075424</td>\n",
       "      <td>25.000000</td>\n",
       "      <td>5285.000000</td>\n",
       "      <td>2.000000</td>\n",
       "      <td>900.000000</td>\n",
       "      <td>1.000000</td>\n",
       "      <td>3.000000</td>\n",
       "      <td>192269.644879</td>\n",
       "    </tr>\n",
       "    <tr>\n",
       "      <td>75%</td>\n",
       "      <td>12592.50000</td>\n",
       "      <td>75.000000</td>\n",
       "      <td>2.000000</td>\n",
       "      <td>65.900625</td>\n",
       "      <td>45.128803</td>\n",
       "      <td>9.000000</td>\n",
       "      <td>12.000000</td>\n",
       "      <td>17.000000</td>\n",
       "      <td>2.001000e+03</td>\n",
       "      <td>0.195781</td>\n",
       "      <td>36.000000</td>\n",
       "      <td>7227.000000</td>\n",
       "      <td>5.000000</td>\n",
       "      <td>1548.000000</td>\n",
       "      <td>2.000000</td>\n",
       "      <td>6.000000</td>\n",
       "      <td>249135.462171</td>\n",
       "    </tr>\n",
       "    <tr>\n",
       "      <td>max</td>\n",
       "      <td>16798.00000</td>\n",
       "      <td>209.000000</td>\n",
       "      <td>19.000000</td>\n",
       "      <td>641.065193</td>\n",
       "      <td>7480.592129</td>\n",
       "      <td>2014.000000</td>\n",
       "      <td>42.000000</td>\n",
       "      <td>117.000000</td>\n",
       "      <td>2.005201e+07</td>\n",
       "      <td>0.521867</td>\n",
       "      <td>74.000000</td>\n",
       "      <td>19083.000000</td>\n",
       "      <td>141.000000</td>\n",
       "      <td>4849.000000</td>\n",
       "      <td>6.000000</td>\n",
       "      <td>23.000000</td>\n",
       "      <td>633233.466570</td>\n",
       "    </tr>\n",
       "  </tbody>\n",
       "</table>\n",
       "</div>"
      ],
      "text/plain": [
       "                Id    DistrictId         Rooms        Square   LifeSquare  \\\n",
       "count  10000.00000  10000.000000  10000.000000  10000.000000  7887.000000   \n",
       "mean    8383.40770     50.400800      1.890500     56.315775    37.199645   \n",
       "std     4859.01902     43.587592      0.839512     21.058732    86.241209   \n",
       "min        0.00000      0.000000      0.000000      1.136859     0.370619   \n",
       "25%     4169.50000     20.000000      1.000000     41.774881    22.769832   \n",
       "50%     8394.50000     36.000000      2.000000     52.513310    32.781260   \n",
       "75%    12592.50000     75.000000      2.000000     65.900625    45.128803   \n",
       "max    16798.00000    209.000000     19.000000    641.065193  7480.592129   \n",
       "\n",
       "       KitchenSquare         Floor    HouseFloor     HouseYear     Ecology_1  \\\n",
       "count   10000.000000  10000.000000  10000.000000  1.000000e+04  10000.000000   \n",
       "mean        6.273300      8.526700     12.609400  3.990166e+03      0.118858   \n",
       "std        28.560917      5.241148      6.775974  2.005003e+05      0.119025   \n",
       "min         0.000000      1.000000      0.000000  1.910000e+03      0.000000   \n",
       "25%         1.000000      4.000000      9.000000  1.974000e+03      0.017647   \n",
       "50%         6.000000      7.000000     13.000000  1.977000e+03      0.075424   \n",
       "75%         9.000000     12.000000     17.000000  2.001000e+03      0.195781   \n",
       "max      2014.000000     42.000000    117.000000  2.005201e+07      0.521867   \n",
       "\n",
       "           Social_1      Social_2      Social_3  Healthcare_1   Helthcare_2  \\\n",
       "count  10000.000000  10000.000000  10000.000000   5202.000000  10000.000000   \n",
       "mean      24.687000   5352.157400      8.039200   1142.904460      1.319500   \n",
       "std       17.532614   4006.799803     23.831875   1021.517264      1.493601   \n",
       "min        0.000000    168.000000      0.000000      0.000000      0.000000   \n",
       "25%        6.000000   1564.000000      0.000000    350.000000      0.000000   \n",
       "50%       25.000000   5285.000000      2.000000    900.000000      1.000000   \n",
       "75%       36.000000   7227.000000      5.000000   1548.000000      2.000000   \n",
       "max       74.000000  19083.000000    141.000000   4849.000000      6.000000   \n",
       "\n",
       "            Shops_1          Price  \n",
       "count  10000.000000   10000.000000  \n",
       "mean       4.231300  214138.857399  \n",
       "std        4.806341   92872.293865  \n",
       "min        0.000000   59174.778028  \n",
       "25%        1.000000  153872.633942  \n",
       "50%        3.000000  192269.644879  \n",
       "75%        6.000000  249135.462171  \n",
       "max       23.000000  633233.466570  "
      ]
     },
     "execution_count": 468,
     "metadata": {},
     "output_type": "execute_result"
    }
   ],
   "source": [
    "df.describe()"
   ]
  },
  {
   "cell_type": "markdown",
   "metadata": {},
   "source": [
    "#### Библиотечные функции"
   ]
  },
  {
   "cell_type": "code",
   "execution_count": 17,
   "metadata": {},
   "outputs": [],
   "source": [
    "def getStatisticsByColumn(columnName, sortName='Count', asc=True):\n",
    "    group = df.groupby(columnName)\n",
    "    df_stat = pd.DataFrame(group.apply(lambda x: x[columnName].unique()[0]))\n",
    "    df_stat.columns = [columnName]\n",
    "    df_stat.loc[:,'Count'] = group.apply(lambda x: x[columnName].count())\n",
    "    df_stat.reset_index(inplace=True, drop=True)\n",
    "    return df_stat.sort_values(by=sortName, axis=0, ascending=asc)"
   ]
  },
  {
   "cell_type": "code",
   "execution_count": 18,
   "metadata": {},
   "outputs": [],
   "source": [
    "def fillEmptyObservationsByMedian(columnName):\n",
    "    mdn = df[columnName].median()\n",
    "    df[columnName] = df[columnName].fillna(mdn)\n",
    "    return 0"
   ]
  },
  {
   "cell_type": "code",
   "execution_count": 19,
   "metadata": {},
   "outputs": [],
   "source": [
    "def transformCategorialToBinary(dFrame, columnName):\n",
    "    matching = filter(lambda column: columnName in column, dFrame.columns)\n",
    "\n",
    "    if len(list(matching)) > 0:\n",
    "        dFrame = pd.concat([dFrame, pd.get_dummies(dFrame[columnName])], axis=1)\n",
    "        dFrame.rename(columns={\"A\": columnName + \"A\", \"B\": columnName + \"B\"}, inplace=True)\n",
    "        dFrame.drop(columnName, axis=1, inplace=True)\n",
    "    return dFrame"
   ]
  },
  {
   "cell_type": "code",
   "execution_count": 94,
   "metadata": {},
   "outputs": [],
   "source": [
    "def apply_elbow_method(d_frame):\n",
    "    distortions = []\n",
    "    K = range(2,15)\n",
    "    for k in K:\n",
    "        kmeanModel = KMeans(n_clusters=k, random_state=33).fit(d_frame)\n",
    "        distortions.append(sum(np.min(cdist(d_frame, kmeanModel.cluster_centers_, 'euclidean'), axis=1)) / d_frame.shape[0])\n",
    "\n",
    "    plt.figure(figsize=(10, 8))\n",
    "    plt.plot(K, distortions, 'bx-')\n",
    "    plt.xlabel('k')\n",
    "    plt.ylabel('Distortion')\n",
    "    plt.title('The Elbow Method showing the optimal k')\n",
    "    plt.show()"
   ]
  },
  {
   "cell_type": "code",
   "execution_count": 21,
   "metadata": {},
   "outputs": [],
   "source": [
    "def display_clusters_distribution(unique_labels, labels_counts):\n",
    "    plt.figure(figsize=(8,5))\n",
    "\n",
    "    plt.bar(unique, counts)\n",
    "\n",
    "    plt.xlabel('Clгsters')\n",
    "    plt.xticks(unique)\n",
    "    plt.ylabel('Count')\n",
    "    plt.title('Clusters distribution')\n",
    "    plt.show()"
   ]
  },
  {
   "cell_type": "code",
   "execution_count": 90,
   "metadata": {},
   "outputs": [],
   "source": [
    "def reduce_dims_to_2D_space_with_PCA(d_frame):\n",
    "    pca = PCA(n_components=2)\n",
    "    components = pca.fit_transform(d_frame)\n",
    "    return pd.DataFrame(data = components, columns = ['component_1', 'component_2'])\n",
    "    \n",
    "def reduce_dims_to_3D_space_with_PCA(d_frame):\n",
    "    pca = PCA(n_components=3)\n",
    "    components = pca.fit_transform(d_frame)\n",
    "    return pd.DataFrame(data = components, columns = ['component_1', 'component_2', 'component_3'])\n",
    "\n",
    "def reduce_dims_to_2D_space_with_TSNE(d_frame):\n",
    "    tsne = TSNE(n_components=2, learning_rate=250, random_state=42)\n",
    "    components = tsne.fit_transform(d_frame)\n",
    "    return pd.DataFrame(data = components, columns = ['component_1', 'component_2'])\n",
    "    \n",
    "def reduce_dims_to_3D_space_with_TSNE(d_frame):\n",
    "    tsne = TSNE(n_components=3, learning_rate=250, random_state=42)\n",
    "    components = tsne.fit_transform(d_frame)\n",
    "    return pd.DataFrame(data = components, columns = ['component_1', 'component_2', 'component_3']) "
   ]
  },
  {
   "cell_type": "code",
   "execution_count": 120,
   "metadata": {},
   "outputs": [],
   "source": [
    "def evaluate_preds(true_values, pred_values):\n",
    "    print(\"R2:\\t\" + str(round(r2_score(true_values, pred_values), 3)) + \"\\n\" +\n",
    "          \"MAE:\\t\" + str(round(mean_absolute_error(true_values, pred_values), 3)) + \"\\n\" +\n",
    "          \"MSE:\\t\" + str(round(mean_squared_error(true_values, pred_values), 3)))\n",
    "    \n",
    "    plt.figure(figsize=(10,10)) \n",
    "    \n",
    "    sns.scatterplot(x=pred_values, y=true_values)\n",
    "    \n",
    "    plt.xlabel('Predicted values')\n",
    "    plt.ylabel('True values')\n",
    "    plt.title('True vs Predicted values')\n",
    "    plt.show()"
   ]
  },
  {
   "cell_type": "markdown",
   "metadata": {},
   "source": [
    "Нормализация поля $DistrictId$"
   ]
  },
  {
   "cell_type": "code",
   "execution_count": 454,
   "metadata": {},
   "outputs": [
    {
     "name": "stdout",
     "output_type": "stream",
     "text": [
      "     DistrictId  Count\n",
      "204         209      1\n",
      "202         207      1\n",
      "201         205      1\n",
      "117         117      1\n",
      "197         199      1\n",
      "196         196      1\n",
      "174         174      1\n",
      "200         202      2\n",
      "203         208      2\n",
      "195         195      2\n"
     ]
    }
   ],
   "source": [
    "print(getStatisticsByColumn('DistrictId')[:10])"
   ]
  },
  {
   "cell_type": "code",
   "execution_count": 455,
   "metadata": {},
   "outputs": [],
   "source": [
    "df.loc[df.DistrictId == 0, 'DistrictId'] = df.DistrictId.median()"
   ]
  },
  {
   "cell_type": "markdown",
   "metadata": {},
   "source": [
    "Нормализация поля $Rooms$"
   ]
  },
  {
   "cell_type": "code",
   "execution_count": 456,
   "metadata": {},
   "outputs": [
    {
     "name": "stdout",
     "output_type": "stream",
     "text": [
      "   Rooms   Count\n",
      "6    6.0     1.0\n",
      "8   19.0     1.0\n",
      "7   10.0     2.0\n",
      "0    0.0     8.0\n",
      "5    5.0    18.0\n",
      "4    4.0   150.0\n",
      "3    3.0  2235.0\n",
      "1    1.0  3705.0\n",
      "2    2.0  3880.0\n"
     ]
    }
   ],
   "source": [
    "print(getStatisticsByColumn('Rooms')[:10])"
   ]
  },
  {
   "cell_type": "code",
   "execution_count": 457,
   "metadata": {},
   "outputs": [],
   "source": [
    "df.Rooms = df.Rooms.astype(int)"
   ]
  },
  {
   "cell_type": "code",
   "execution_count": 458,
   "metadata": {},
   "outputs": [
    {
     "name": "stdout",
     "output_type": "stream",
     "text": [
      "средний метраж для однушек:    40.40658991236909\n",
      "средний метраж для двушек:     55.84181213903055\n",
      "средний метраж для трёшек:     77.41364294803941\n",
      "средний метраж для четвёрок:   98.66805357992513\n",
      "средний метраж для пятёрок:    116.08486083443316\n",
      "средний метраж для шестёрок:   59.41433379627719\n"
     ]
    }
   ],
   "source": [
    "print('средний метраж для однушек:   ', df.loc[df['Rooms'] == 1].median()['Square'])\n",
    "print('средний метраж для двушек:    ', df.loc[df['Rooms'] == 2].median()['Square'])\n",
    "print('средний метраж для трёшек:    ', df.loc[df['Rooms'] == 3].median()['Square'])\n",
    "print('средний метраж для четвёрок:  ', df.loc[df['Rooms'] == 4].median()['Square'])\n",
    "print('средний метраж для пятёрок:   ', df.loc[df['Rooms'] == 5].median()['Square'])\n",
    "print('средний метраж для шестёрок:  ', df.loc[df['Rooms'] == 6].median()['Square'])"
   ]
  },
  {
   "cell_type": "code",
   "execution_count": 459,
   "metadata": {},
   "outputs": [
    {
     "data": {
      "text/html": [
       "<div>\n",
       "<style scoped>\n",
       "    .dataframe tbody tr th:only-of-type {\n",
       "        vertical-align: middle;\n",
       "    }\n",
       "\n",
       "    .dataframe tbody tr th {\n",
       "        vertical-align: top;\n",
       "    }\n",
       "\n",
       "    .dataframe thead th {\n",
       "        text-align: right;\n",
       "    }\n",
       "</style>\n",
       "<table border=\"1\" class=\"dataframe\">\n",
       "  <thead>\n",
       "    <tr style=\"text-align: right;\">\n",
       "      <th></th>\n",
       "      <th>Id</th>\n",
       "      <th>DistrictId</th>\n",
       "      <th>Rooms</th>\n",
       "      <th>Square</th>\n",
       "      <th>LifeSquare</th>\n",
       "      <th>KitchenSquare</th>\n",
       "      <th>Floor</th>\n",
       "      <th>HouseFloor</th>\n",
       "      <th>HouseYear</th>\n",
       "      <th>Ecology_1</th>\n",
       "      <th>Ecology_2</th>\n",
       "      <th>Ecology_3</th>\n",
       "      <th>Social_1</th>\n",
       "      <th>Social_2</th>\n",
       "      <th>Social_3</th>\n",
       "      <th>Healthcare_1</th>\n",
       "      <th>Helthcare_2</th>\n",
       "      <th>Shops_1</th>\n",
       "      <th>Shops_2</th>\n",
       "      <th>Price</th>\n",
       "    </tr>\n",
       "  </thead>\n",
       "  <tbody>\n",
       "    <tr>\n",
       "      <td>2170</td>\n",
       "      <td>14003</td>\n",
       "      <td>99.0</td>\n",
       "      <td>6</td>\n",
       "      <td>59.414334</td>\n",
       "      <td>38.702244</td>\n",
       "      <td>6.0</td>\n",
       "      <td>7</td>\n",
       "      <td>9.0</td>\n",
       "      <td>1969</td>\n",
       "      <td>0.033494</td>\n",
       "      <td>B</td>\n",
       "      <td>B</td>\n",
       "      <td>66</td>\n",
       "      <td>10573</td>\n",
       "      <td>1</td>\n",
       "      <td>1322.0</td>\n",
       "      <td>3</td>\n",
       "      <td>8</td>\n",
       "      <td>B</td>\n",
       "      <td>229661.964416</td>\n",
       "    </tr>\n",
       "  </tbody>\n",
       "</table>\n",
       "</div>"
      ],
      "text/plain": [
       "         Id  DistrictId  Rooms     Square  LifeSquare  KitchenSquare  Floor  \\\n",
       "2170  14003        99.0      6  59.414334   38.702244            6.0      7   \n",
       "\n",
       "      HouseFloor  HouseYear  Ecology_1 Ecology_2 Ecology_3  Social_1  \\\n",
       "2170         9.0       1969   0.033494         B         B        66   \n",
       "\n",
       "      Social_2  Social_3  Healthcare_1  Helthcare_2  Shops_1 Shops_2  \\\n",
       "2170     10573         1        1322.0            3        8       B   \n",
       "\n",
       "              Price  \n",
       "2170  229661.964416  "
      ]
     },
     "execution_count": 459,
     "metadata": {},
     "output_type": "execute_result"
    }
   ],
   "source": [
    "df.loc[df.Rooms == 6] "
   ]
  },
  {
   "cell_type": "markdown",
   "metadata": {},
   "source": [
    "Корректировка количества комнат на основании средних значений метража"
   ]
  },
  {
   "cell_type": "code",
   "execution_count": 460,
   "metadata": {},
   "outputs": [],
   "source": [
    "df.loc[df.Id == 12638, 'Rooms'] = 5\n",
    "df.loc[df.Id == 7917, 'Rooms'] = 10\n",
    "df.loc[df.Id == 7317, 'Rooms'] = 1\n",
    "df.loc[df.Id == 770, 'Rooms'] = 1\n",
    "df.loc[df.Id == 456, 'Rooms'] = 3\n",
    "df.loc[df.Id == 3159, 'Rooms'] = 1\n",
    "df.loc[df.Id == 9443, 'Rooms'] = 3\n",
    "df.loc[df.Id == 8491, 'Rooms'] = 1\n",
    "df.loc[df.Id == 5927, 'Rooms'] = 2\n",
    "df.loc[df.Id == 14865, 'Rooms'] = 1\n",
    "df.loc[df.Id == 7594, 'Rooms'] = 1\n",
    "df.loc[df.Id == 14003, 'Rooms'] = 2"
   ]
  },
  {
   "cell_type": "code",
   "execution_count": null,
   "metadata": {},
   "outputs": [],
   "source": []
  },
  {
   "cell_type": "markdown",
   "metadata": {},
   "source": [
    "Нормализация поля $Square$"
   ]
  },
  {
   "cell_type": "code",
   "execution_count": 461,
   "metadata": {},
   "outputs": [
    {
     "data": {
      "text/html": [
       "<div>\n",
       "<style scoped>\n",
       "    .dataframe tbody tr th:only-of-type {\n",
       "        vertical-align: middle;\n",
       "    }\n",
       "\n",
       "    .dataframe tbody tr th {\n",
       "        vertical-align: top;\n",
       "    }\n",
       "\n",
       "    .dataframe thead th {\n",
       "        text-align: right;\n",
       "    }\n",
       "</style>\n",
       "<table border=\"1\" class=\"dataframe\">\n",
       "  <thead>\n",
       "    <tr style=\"text-align: right;\">\n",
       "      <th></th>\n",
       "      <th>Id</th>\n",
       "      <th>DistrictId</th>\n",
       "      <th>Rooms</th>\n",
       "      <th>Square</th>\n",
       "      <th>LifeSquare</th>\n",
       "      <th>KitchenSquare</th>\n",
       "      <th>Floor</th>\n",
       "      <th>HouseFloor</th>\n",
       "      <th>HouseYear</th>\n",
       "      <th>Ecology_1</th>\n",
       "      <th>Ecology_2</th>\n",
       "      <th>Ecology_3</th>\n",
       "      <th>Social_1</th>\n",
       "      <th>Social_2</th>\n",
       "      <th>Social_3</th>\n",
       "      <th>Healthcare_1</th>\n",
       "      <th>Helthcare_2</th>\n",
       "      <th>Shops_1</th>\n",
       "      <th>Shops_2</th>\n",
       "      <th>Price</th>\n",
       "    </tr>\n",
       "  </thead>\n",
       "  <tbody>\n",
       "    <tr>\n",
       "      <td>212</td>\n",
       "      <td>1748</td>\n",
       "      <td>88.0</td>\n",
       "      <td>2</td>\n",
       "      <td>5.497061</td>\n",
       "      <td>67.628717</td>\n",
       "      <td>1.0</td>\n",
       "      <td>24</td>\n",
       "      <td>22.0</td>\n",
       "      <td>1977</td>\n",
       "      <td>0.127376</td>\n",
       "      <td>B</td>\n",
       "      <td>B</td>\n",
       "      <td>43</td>\n",
       "      <td>8429</td>\n",
       "      <td>3</td>\n",
       "      <td>NaN</td>\n",
       "      <td>3</td>\n",
       "      <td>9</td>\n",
       "      <td>B</td>\n",
       "      <td>412511.088764</td>\n",
       "    </tr>\n",
       "    <tr>\n",
       "      <td>1316</td>\n",
       "      <td>11526</td>\n",
       "      <td>27.0</td>\n",
       "      <td>1</td>\n",
       "      <td>4.633498</td>\n",
       "      <td>1.969969</td>\n",
       "      <td>1.0</td>\n",
       "      <td>18</td>\n",
       "      <td>1.0</td>\n",
       "      <td>1977</td>\n",
       "      <td>0.011654</td>\n",
       "      <td>B</td>\n",
       "      <td>B</td>\n",
       "      <td>4</td>\n",
       "      <td>915</td>\n",
       "      <td>0</td>\n",
       "      <td>NaN</td>\n",
       "      <td>0</td>\n",
       "      <td>0</td>\n",
       "      <td>B</td>\n",
       "      <td>107604.269441</td>\n",
       "    </tr>\n",
       "    <tr>\n",
       "      <td>1608</td>\n",
       "      <td>10202</td>\n",
       "      <td>6.0</td>\n",
       "      <td>1</td>\n",
       "      <td>2.596351</td>\n",
       "      <td>4.604943</td>\n",
       "      <td>1.0</td>\n",
       "      <td>3</td>\n",
       "      <td>25.0</td>\n",
       "      <td>2014</td>\n",
       "      <td>0.243205</td>\n",
       "      <td>B</td>\n",
       "      <td>B</td>\n",
       "      <td>5</td>\n",
       "      <td>1564</td>\n",
       "      <td>0</td>\n",
       "      <td>540.0</td>\n",
       "      <td>0</td>\n",
       "      <td>0</td>\n",
       "      <td>B</td>\n",
       "      <td>137597.601458</td>\n",
       "    </tr>\n",
       "    <tr>\n",
       "      <td>3280</td>\n",
       "      <td>10527</td>\n",
       "      <td>27.0</td>\n",
       "      <td>1</td>\n",
       "      <td>4.380726</td>\n",
       "      <td>40.805837</td>\n",
       "      <td>1.0</td>\n",
       "      <td>10</td>\n",
       "      <td>17.0</td>\n",
       "      <td>2013</td>\n",
       "      <td>0.211401</td>\n",
       "      <td>B</td>\n",
       "      <td>B</td>\n",
       "      <td>9</td>\n",
       "      <td>1892</td>\n",
       "      <td>0</td>\n",
       "      <td>NaN</td>\n",
       "      <td>0</td>\n",
       "      <td>1</td>\n",
       "      <td>B</td>\n",
       "      <td>97560.720383</td>\n",
       "    </tr>\n",
       "    <tr>\n",
       "      <td>3413</td>\n",
       "      <td>9487</td>\n",
       "      <td>5.0</td>\n",
       "      <td>1</td>\n",
       "      <td>5.129222</td>\n",
       "      <td>5.549458</td>\n",
       "      <td>1.0</td>\n",
       "      <td>1</td>\n",
       "      <td>1.0</td>\n",
       "      <td>1977</td>\n",
       "      <td>0.150818</td>\n",
       "      <td>B</td>\n",
       "      <td>B</td>\n",
       "      <td>16</td>\n",
       "      <td>3433</td>\n",
       "      <td>4</td>\n",
       "      <td>2643.0</td>\n",
       "      <td>4</td>\n",
       "      <td>5</td>\n",
       "      <td>B</td>\n",
       "      <td>369472.403061</td>\n",
       "    </tr>\n",
       "    <tr>\n",
       "      <td>4853</td>\n",
       "      <td>3224</td>\n",
       "      <td>27.0</td>\n",
       "      <td>0</td>\n",
       "      <td>2.377248</td>\n",
       "      <td>0.873147</td>\n",
       "      <td>0.0</td>\n",
       "      <td>1</td>\n",
       "      <td>0.0</td>\n",
       "      <td>1977</td>\n",
       "      <td>0.017647</td>\n",
       "      <td>B</td>\n",
       "      <td>B</td>\n",
       "      <td>2</td>\n",
       "      <td>469</td>\n",
       "      <td>0</td>\n",
       "      <td>NaN</td>\n",
       "      <td>0</td>\n",
       "      <td>0</td>\n",
       "      <td>B</td>\n",
       "      <td>126596.941798</td>\n",
       "    </tr>\n",
       "    <tr>\n",
       "      <td>4900</td>\n",
       "      <td>4504</td>\n",
       "      <td>27.0</td>\n",
       "      <td>3</td>\n",
       "      <td>4.390331</td>\n",
       "      <td>5.610772</td>\n",
       "      <td>1.0</td>\n",
       "      <td>8</td>\n",
       "      <td>19.0</td>\n",
       "      <td>2016</td>\n",
       "      <td>0.211401</td>\n",
       "      <td>B</td>\n",
       "      <td>B</td>\n",
       "      <td>9</td>\n",
       "      <td>1892</td>\n",
       "      <td>0</td>\n",
       "      <td>NaN</td>\n",
       "      <td>0</td>\n",
       "      <td>1</td>\n",
       "      <td>B</td>\n",
       "      <td>161379.067034</td>\n",
       "    </tr>\n",
       "    <tr>\n",
       "      <td>6392</td>\n",
       "      <td>14786</td>\n",
       "      <td>1.0</td>\n",
       "      <td>1</td>\n",
       "      <td>1.136859</td>\n",
       "      <td>4.525736</td>\n",
       "      <td>1.0</td>\n",
       "      <td>3</td>\n",
       "      <td>1.0</td>\n",
       "      <td>1977</td>\n",
       "      <td>0.007122</td>\n",
       "      <td>B</td>\n",
       "      <td>B</td>\n",
       "      <td>1</td>\n",
       "      <td>264</td>\n",
       "      <td>0</td>\n",
       "      <td>NaN</td>\n",
       "      <td>0</td>\n",
       "      <td>1</td>\n",
       "      <td>B</td>\n",
       "      <td>181434.825589</td>\n",
       "    </tr>\n",
       "    <tr>\n",
       "      <td>8030</td>\n",
       "      <td>13265</td>\n",
       "      <td>1.0</td>\n",
       "      <td>3</td>\n",
       "      <td>4.823679</td>\n",
       "      <td>79.767964</td>\n",
       "      <td>0.0</td>\n",
       "      <td>6</td>\n",
       "      <td>17.0</td>\n",
       "      <td>1977</td>\n",
       "      <td>0.007122</td>\n",
       "      <td>B</td>\n",
       "      <td>B</td>\n",
       "      <td>1</td>\n",
       "      <td>264</td>\n",
       "      <td>0</td>\n",
       "      <td>NaN</td>\n",
       "      <td>0</td>\n",
       "      <td>1</td>\n",
       "      <td>B</td>\n",
       "      <td>237716.681261</td>\n",
       "    </tr>\n",
       "    <tr>\n",
       "      <td>8283</td>\n",
       "      <td>15744</td>\n",
       "      <td>34.0</td>\n",
       "      <td>1</td>\n",
       "      <td>1.988943</td>\n",
       "      <td>2.642219</td>\n",
       "      <td>1.0</td>\n",
       "      <td>21</td>\n",
       "      <td>4.0</td>\n",
       "      <td>1977</td>\n",
       "      <td>0.069753</td>\n",
       "      <td>B</td>\n",
       "      <td>B</td>\n",
       "      <td>53</td>\n",
       "      <td>13670</td>\n",
       "      <td>4</td>\n",
       "      <td>NaN</td>\n",
       "      <td>1</td>\n",
       "      <td>11</td>\n",
       "      <td>B</td>\n",
       "      <td>458378.777006</td>\n",
       "    </tr>\n",
       "    <tr>\n",
       "      <td>9294</td>\n",
       "      <td>6782</td>\n",
       "      <td>45.0</td>\n",
       "      <td>1</td>\n",
       "      <td>2.954309</td>\n",
       "      <td>5.257278</td>\n",
       "      <td>1.0</td>\n",
       "      <td>3</td>\n",
       "      <td>1.0</td>\n",
       "      <td>1977</td>\n",
       "      <td>0.195781</td>\n",
       "      <td>B</td>\n",
       "      <td>B</td>\n",
       "      <td>23</td>\n",
       "      <td>5212</td>\n",
       "      <td>6</td>\n",
       "      <td>NaN</td>\n",
       "      <td>3</td>\n",
       "      <td>2</td>\n",
       "      <td>B</td>\n",
       "      <td>438005.182323</td>\n",
       "    </tr>\n",
       "    <tr>\n",
       "      <td>9613</td>\n",
       "      <td>7657</td>\n",
       "      <td>38.0</td>\n",
       "      <td>1</td>\n",
       "      <td>4.502784</td>\n",
       "      <td>4.618547</td>\n",
       "      <td>1.0</td>\n",
       "      <td>28</td>\n",
       "      <td>1.0</td>\n",
       "      <td>1977</td>\n",
       "      <td>0.060753</td>\n",
       "      <td>B</td>\n",
       "      <td>B</td>\n",
       "      <td>15</td>\n",
       "      <td>2787</td>\n",
       "      <td>2</td>\n",
       "      <td>520.0</td>\n",
       "      <td>0</td>\n",
       "      <td>7</td>\n",
       "      <td>B</td>\n",
       "      <td>483283.488083</td>\n",
       "    </tr>\n",
       "  </tbody>\n",
       "</table>\n",
       "</div>"
      ],
      "text/plain": [
       "         Id  DistrictId  Rooms    Square  LifeSquare  KitchenSquare  Floor  \\\n",
       "212    1748        88.0      2  5.497061   67.628717            1.0     24   \n",
       "1316  11526        27.0      1  4.633498    1.969969            1.0     18   \n",
       "1608  10202         6.0      1  2.596351    4.604943            1.0      3   \n",
       "3280  10527        27.0      1  4.380726   40.805837            1.0     10   \n",
       "3413   9487         5.0      1  5.129222    5.549458            1.0      1   \n",
       "4853   3224        27.0      0  2.377248    0.873147            0.0      1   \n",
       "4900   4504        27.0      3  4.390331    5.610772            1.0      8   \n",
       "6392  14786         1.0      1  1.136859    4.525736            1.0      3   \n",
       "8030  13265         1.0      3  4.823679   79.767964            0.0      6   \n",
       "8283  15744        34.0      1  1.988943    2.642219            1.0     21   \n",
       "9294   6782        45.0      1  2.954309    5.257278            1.0      3   \n",
       "9613   7657        38.0      1  4.502784    4.618547            1.0     28   \n",
       "\n",
       "      HouseFloor  HouseYear  Ecology_1 Ecology_2 Ecology_3  Social_1  \\\n",
       "212         22.0       1977   0.127376         B         B        43   \n",
       "1316         1.0       1977   0.011654         B         B         4   \n",
       "1608        25.0       2014   0.243205         B         B         5   \n",
       "3280        17.0       2013   0.211401         B         B         9   \n",
       "3413         1.0       1977   0.150818         B         B        16   \n",
       "4853         0.0       1977   0.017647         B         B         2   \n",
       "4900        19.0       2016   0.211401         B         B         9   \n",
       "6392         1.0       1977   0.007122         B         B         1   \n",
       "8030        17.0       1977   0.007122         B         B         1   \n",
       "8283         4.0       1977   0.069753         B         B        53   \n",
       "9294         1.0       1977   0.195781         B         B        23   \n",
       "9613         1.0       1977   0.060753         B         B        15   \n",
       "\n",
       "      Social_2  Social_3  Healthcare_1  Helthcare_2  Shops_1 Shops_2  \\\n",
       "212       8429         3           NaN            3        9       B   \n",
       "1316       915         0           NaN            0        0       B   \n",
       "1608      1564         0         540.0            0        0       B   \n",
       "3280      1892         0           NaN            0        1       B   \n",
       "3413      3433         4        2643.0            4        5       B   \n",
       "4853       469         0           NaN            0        0       B   \n",
       "4900      1892         0           NaN            0        1       B   \n",
       "6392       264         0           NaN            0        1       B   \n",
       "8030       264         0           NaN            0        1       B   \n",
       "8283     13670         4           NaN            1       11       B   \n",
       "9294      5212         6           NaN            3        2       B   \n",
       "9613      2787         2         520.0            0        7       B   \n",
       "\n",
       "              Price  \n",
       "212   412511.088764  \n",
       "1316  107604.269441  \n",
       "1608  137597.601458  \n",
       "3280   97560.720383  \n",
       "3413  369472.403061  \n",
       "4853  126596.941798  \n",
       "4900  161379.067034  \n",
       "6392  181434.825589  \n",
       "8030  237716.681261  \n",
       "8283  458378.777006  \n",
       "9294  438005.182323  \n",
       "9613  483283.488083  "
      ]
     },
     "execution_count": 461,
     "metadata": {},
     "output_type": "execute_result"
    }
   ],
   "source": [
    "df.loc[(df.Square < 10)] "
   ]
  },
  {
   "cell_type": "markdown",
   "metadata": {},
   "source": [
    "Невеверные значения, подлежащие удалению"
   ]
  },
  {
   "cell_type": "code",
   "execution_count": 462,
   "metadata": {},
   "outputs": [
    {
     "data": {
      "text/html": [
       "<div>\n",
       "<style scoped>\n",
       "    .dataframe tbody tr th:only-of-type {\n",
       "        vertical-align: middle;\n",
       "    }\n",
       "\n",
       "    .dataframe tbody tr th {\n",
       "        vertical-align: top;\n",
       "    }\n",
       "\n",
       "    .dataframe thead th {\n",
       "        text-align: right;\n",
       "    }\n",
       "</style>\n",
       "<table border=\"1\" class=\"dataframe\">\n",
       "  <thead>\n",
       "    <tr style=\"text-align: right;\">\n",
       "      <th></th>\n",
       "      <th>Id</th>\n",
       "      <th>DistrictId</th>\n",
       "      <th>Rooms</th>\n",
       "      <th>Square</th>\n",
       "      <th>LifeSquare</th>\n",
       "      <th>KitchenSquare</th>\n",
       "      <th>Floor</th>\n",
       "      <th>HouseFloor</th>\n",
       "      <th>HouseYear</th>\n",
       "      <th>Ecology_1</th>\n",
       "      <th>Ecology_2</th>\n",
       "      <th>Ecology_3</th>\n",
       "      <th>Social_1</th>\n",
       "      <th>Social_2</th>\n",
       "      <th>Social_3</th>\n",
       "      <th>Healthcare_1</th>\n",
       "      <th>Helthcare_2</th>\n",
       "      <th>Shops_1</th>\n",
       "      <th>Shops_2</th>\n",
       "      <th>Price</th>\n",
       "    </tr>\n",
       "  </thead>\n",
       "  <tbody>\n",
       "  </tbody>\n",
       "</table>\n",
       "</div>"
      ],
      "text/plain": [
       "Empty DataFrame\n",
       "Columns: [Id, DistrictId, Rooms, Square, LifeSquare, KitchenSquare, Floor, HouseFloor, HouseYear, Ecology_1, Ecology_2, Ecology_3, Social_1, Social_2, Social_3, Healthcare_1, Helthcare_2, Shops_1, Shops_2, Price]\n",
       "Index: []"
      ]
     },
     "execution_count": 462,
     "metadata": {},
     "output_type": "execute_result"
    }
   ],
   "source": [
    "df.drop(df[(df.Square < 10) & (df.Square < df.LifeSquare)].index, inplace=True)\n",
    "df.loc[(df.Id.isnull() == True)]"
   ]
  },
  {
   "cell_type": "markdown",
   "metadata": {},
   "source": [
    "Невеверные значения, подлежащие коррекции"
   ]
  },
  {
   "cell_type": "code",
   "execution_count": 231,
   "metadata": {},
   "outputs": [],
   "source": [
    "df.loc[(df.Square < 10), 'Square'] = df.loc[(df.Square < 10), 'Square'] * 10\n",
    "df.loc[(df.Square < 10), 'LifeSquare'] = df.loc[(df.Square < 10), 'LifeSquare'] * 10"
   ]
  },
  {
   "cell_type": "markdown",
   "metadata": {},
   "source": [
    "Нормализация поля $LifeSquare$\n",
    "<br>\n",
    "<br>\n",
    "Признак $LifeSquare$ имеeт высокую степень разряжения.\n",
    "<br>\n",
    "Заполняем отсутсвующие в этом столбце значения соотвествующими медианными значениями. "
   ]
  },
  {
   "cell_type": "code",
   "execution_count": 232,
   "metadata": {},
   "outputs": [
    {
     "data": {
      "text/plain": [
       "0"
      ]
     },
     "execution_count": 232,
     "metadata": {},
     "output_type": "execute_result"
    }
   ],
   "source": [
    "fillEmptyObservationsByMedian('LifeSquare')"
   ]
  },
  {
   "cell_type": "code",
   "execution_count": 233,
   "metadata": {},
   "outputs": [
    {
     "data": {
      "text/html": [
       "<div>\n",
       "<style scoped>\n",
       "    .dataframe tbody tr th:only-of-type {\n",
       "        vertical-align: middle;\n",
       "    }\n",
       "\n",
       "    .dataframe tbody tr th {\n",
       "        vertical-align: top;\n",
       "    }\n",
       "\n",
       "    .dataframe thead th {\n",
       "        text-align: right;\n",
       "    }\n",
       "</style>\n",
       "<table border=\"1\" class=\"dataframe\">\n",
       "  <thead>\n",
       "    <tr style=\"text-align: right;\">\n",
       "      <th></th>\n",
       "      <th>Id</th>\n",
       "      <th>DistrictId</th>\n",
       "      <th>Rooms</th>\n",
       "      <th>Square</th>\n",
       "      <th>LifeSquare</th>\n",
       "      <th>KitchenSquare</th>\n",
       "      <th>Floor</th>\n",
       "      <th>HouseFloor</th>\n",
       "      <th>HouseYear</th>\n",
       "      <th>Ecology_1</th>\n",
       "      <th>Ecology_2</th>\n",
       "      <th>Ecology_3</th>\n",
       "      <th>Social_1</th>\n",
       "      <th>Social_2</th>\n",
       "      <th>Social_3</th>\n",
       "      <th>Healthcare_1</th>\n",
       "      <th>Helthcare_2</th>\n",
       "      <th>Shops_1</th>\n",
       "      <th>Shops_2</th>\n",
       "      <th>Price</th>\n",
       "    </tr>\n",
       "  </thead>\n",
       "  <tbody>\n",
       "    <tr>\n",
       "      <td>26</td>\n",
       "      <td>4378</td>\n",
       "      <td>27.0</td>\n",
       "      <td>3</td>\n",
       "      <td>106.958871</td>\n",
       "      <td>0.641822</td>\n",
       "      <td>0.0</td>\n",
       "      <td>17</td>\n",
       "      <td>0.0</td>\n",
       "      <td>2018</td>\n",
       "      <td>0.072158</td>\n",
       "      <td>B</td>\n",
       "      <td>B</td>\n",
       "      <td>2</td>\n",
       "      <td>629</td>\n",
       "      <td>1</td>\n",
       "      <td>NaN</td>\n",
       "      <td>0</td>\n",
       "      <td>0</td>\n",
       "      <td>A</td>\n",
       "      <td>337299.867936</td>\n",
       "    </tr>\n",
       "    <tr>\n",
       "      <td>95</td>\n",
       "      <td>4280</td>\n",
       "      <td>34.0</td>\n",
       "      <td>2</td>\n",
       "      <td>61.334968</td>\n",
       "      <td>4.091945</td>\n",
       "      <td>1.0</td>\n",
       "      <td>26</td>\n",
       "      <td>1.0</td>\n",
       "      <td>2014</td>\n",
       "      <td>0.069753</td>\n",
       "      <td>B</td>\n",
       "      <td>B</td>\n",
       "      <td>53</td>\n",
       "      <td>13670</td>\n",
       "      <td>4</td>\n",
       "      <td>NaN</td>\n",
       "      <td>1</td>\n",
       "      <td>11</td>\n",
       "      <td>B</td>\n",
       "      <td>286564.441972</td>\n",
       "    </tr>\n",
       "    <tr>\n",
       "      <td>134</td>\n",
       "      <td>12613</td>\n",
       "      <td>6.0</td>\n",
       "      <td>2</td>\n",
       "      <td>65.496674</td>\n",
       "      <td>5.589324</td>\n",
       "      <td>1.0</td>\n",
       "      <td>5</td>\n",
       "      <td>17.0</td>\n",
       "      <td>1977</td>\n",
       "      <td>0.243205</td>\n",
       "      <td>B</td>\n",
       "      <td>B</td>\n",
       "      <td>5</td>\n",
       "      <td>1564</td>\n",
       "      <td>0</td>\n",
       "      <td>540.0</td>\n",
       "      <td>0</td>\n",
       "      <td>0</td>\n",
       "      <td>B</td>\n",
       "      <td>180727.643541</td>\n",
       "    </tr>\n",
       "    <tr>\n",
       "      <td>158</td>\n",
       "      <td>16779</td>\n",
       "      <td>27.0</td>\n",
       "      <td>3</td>\n",
       "      <td>51.991064</td>\n",
       "      <td>4.896202</td>\n",
       "      <td>1.0</td>\n",
       "      <td>22</td>\n",
       "      <td>25.0</td>\n",
       "      <td>1977</td>\n",
       "      <td>0.072158</td>\n",
       "      <td>B</td>\n",
       "      <td>B</td>\n",
       "      <td>2</td>\n",
       "      <td>629</td>\n",
       "      <td>1</td>\n",
       "      <td>NaN</td>\n",
       "      <td>0</td>\n",
       "      <td>0</td>\n",
       "      <td>A</td>\n",
       "      <td>174687.566186</td>\n",
       "    </tr>\n",
       "    <tr>\n",
       "      <td>160</td>\n",
       "      <td>3522</td>\n",
       "      <td>6.0</td>\n",
       "      <td>1</td>\n",
       "      <td>66.419841</td>\n",
       "      <td>3.987101</td>\n",
       "      <td>1.0</td>\n",
       "      <td>2</td>\n",
       "      <td>1.0</td>\n",
       "      <td>1977</td>\n",
       "      <td>0.243205</td>\n",
       "      <td>B</td>\n",
       "      <td>B</td>\n",
       "      <td>5</td>\n",
       "      <td>1564</td>\n",
       "      <td>0</td>\n",
       "      <td>540.0</td>\n",
       "      <td>0</td>\n",
       "      <td>0</td>\n",
       "      <td>B</td>\n",
       "      <td>193361.229815</td>\n",
       "    </tr>\n",
       "    <tr>\n",
       "      <td>...</td>\n",
       "      <td>...</td>\n",
       "      <td>...</td>\n",
       "      <td>...</td>\n",
       "      <td>...</td>\n",
       "      <td>...</td>\n",
       "      <td>...</td>\n",
       "      <td>...</td>\n",
       "      <td>...</td>\n",
       "      <td>...</td>\n",
       "      <td>...</td>\n",
       "      <td>...</td>\n",
       "      <td>...</td>\n",
       "      <td>...</td>\n",
       "      <td>...</td>\n",
       "      <td>...</td>\n",
       "      <td>...</td>\n",
       "      <td>...</td>\n",
       "      <td>...</td>\n",
       "      <td>...</td>\n",
       "      <td>...</td>\n",
       "    </tr>\n",
       "    <tr>\n",
       "      <td>9756</td>\n",
       "      <td>13583</td>\n",
       "      <td>27.0</td>\n",
       "      <td>2</td>\n",
       "      <td>58.943039</td>\n",
       "      <td>3.319486</td>\n",
       "      <td>1.0</td>\n",
       "      <td>11</td>\n",
       "      <td>17.0</td>\n",
       "      <td>2017</td>\n",
       "      <td>0.011654</td>\n",
       "      <td>B</td>\n",
       "      <td>B</td>\n",
       "      <td>4</td>\n",
       "      <td>915</td>\n",
       "      <td>0</td>\n",
       "      <td>NaN</td>\n",
       "      <td>0</td>\n",
       "      <td>0</td>\n",
       "      <td>B</td>\n",
       "      <td>142789.948977</td>\n",
       "    </tr>\n",
       "    <tr>\n",
       "      <td>9813</td>\n",
       "      <td>2040</td>\n",
       "      <td>62.0</td>\n",
       "      <td>1</td>\n",
       "      <td>122.438148</td>\n",
       "      <td>5.751401</td>\n",
       "      <td>1.0</td>\n",
       "      <td>2</td>\n",
       "      <td>3.0</td>\n",
       "      <td>1977</td>\n",
       "      <td>0.072158</td>\n",
       "      <td>B</td>\n",
       "      <td>B</td>\n",
       "      <td>2</td>\n",
       "      <td>629</td>\n",
       "      <td>1</td>\n",
       "      <td>NaN</td>\n",
       "      <td>0</td>\n",
       "      <td>0</td>\n",
       "      <td>A</td>\n",
       "      <td>224900.897679</td>\n",
       "    </tr>\n",
       "    <tr>\n",
       "      <td>9828</td>\n",
       "      <td>13630</td>\n",
       "      <td>24.0</td>\n",
       "      <td>3</td>\n",
       "      <td>127.141143</td>\n",
       "      <td>4.811405</td>\n",
       "      <td>1.0</td>\n",
       "      <td>3</td>\n",
       "      <td>1.0</td>\n",
       "      <td>2017</td>\n",
       "      <td>0.111627</td>\n",
       "      <td>B</td>\n",
       "      <td>B</td>\n",
       "      <td>50</td>\n",
       "      <td>12238</td>\n",
       "      <td>8</td>\n",
       "      <td>1970.0</td>\n",
       "      <td>2</td>\n",
       "      <td>3</td>\n",
       "      <td>B</td>\n",
       "      <td>611250.912034</td>\n",
       "    </tr>\n",
       "    <tr>\n",
       "      <td>9888</td>\n",
       "      <td>6053</td>\n",
       "      <td>6.0</td>\n",
       "      <td>1</td>\n",
       "      <td>41.314775</td>\n",
       "      <td>5.005477</td>\n",
       "      <td>1.0</td>\n",
       "      <td>9</td>\n",
       "      <td>17.0</td>\n",
       "      <td>2016</td>\n",
       "      <td>0.243205</td>\n",
       "      <td>B</td>\n",
       "      <td>B</td>\n",
       "      <td>5</td>\n",
       "      <td>1564</td>\n",
       "      <td>0</td>\n",
       "      <td>540.0</td>\n",
       "      <td>0</td>\n",
       "      <td>0</td>\n",
       "      <td>B</td>\n",
       "      <td>159149.515475</td>\n",
       "    </tr>\n",
       "    <tr>\n",
       "      <td>9954</td>\n",
       "      <td>583</td>\n",
       "      <td>27.0</td>\n",
       "      <td>3</td>\n",
       "      <td>84.250710</td>\n",
       "      <td>4.187885</td>\n",
       "      <td>1.0</td>\n",
       "      <td>15</td>\n",
       "      <td>1.0</td>\n",
       "      <td>2016</td>\n",
       "      <td>0.072158</td>\n",
       "      <td>B</td>\n",
       "      <td>B</td>\n",
       "      <td>2</td>\n",
       "      <td>629</td>\n",
       "      <td>1</td>\n",
       "      <td>NaN</td>\n",
       "      <td>0</td>\n",
       "      <td>0</td>\n",
       "      <td>A</td>\n",
       "      <td>236647.781363</td>\n",
       "    </tr>\n",
       "  </tbody>\n",
       "</table>\n",
       "<p>198 rows × 20 columns</p>\n",
       "</div>"
      ],
      "text/plain": [
       "         Id  DistrictId  Rooms      Square  LifeSquare  KitchenSquare  Floor  \\\n",
       "26     4378        27.0      3  106.958871    0.641822            0.0     17   \n",
       "95     4280        34.0      2   61.334968    4.091945            1.0     26   \n",
       "134   12613         6.0      2   65.496674    5.589324            1.0      5   \n",
       "158   16779        27.0      3   51.991064    4.896202            1.0     22   \n",
       "160    3522         6.0      1   66.419841    3.987101            1.0      2   \n",
       "...     ...         ...    ...         ...         ...            ...    ...   \n",
       "9756  13583        27.0      2   58.943039    3.319486            1.0     11   \n",
       "9813   2040        62.0      1  122.438148    5.751401            1.0      2   \n",
       "9828  13630        24.0      3  127.141143    4.811405            1.0      3   \n",
       "9888   6053         6.0      1   41.314775    5.005477            1.0      9   \n",
       "9954    583        27.0      3   84.250710    4.187885            1.0     15   \n",
       "\n",
       "      HouseFloor  HouseYear  Ecology_1 Ecology_2 Ecology_3  Social_1  \\\n",
       "26           0.0       2018   0.072158         B         B         2   \n",
       "95           1.0       2014   0.069753         B         B        53   \n",
       "134         17.0       1977   0.243205         B         B         5   \n",
       "158         25.0       1977   0.072158         B         B         2   \n",
       "160          1.0       1977   0.243205         B         B         5   \n",
       "...          ...        ...        ...       ...       ...       ...   \n",
       "9756        17.0       2017   0.011654         B         B         4   \n",
       "9813         3.0       1977   0.072158         B         B         2   \n",
       "9828         1.0       2017   0.111627         B         B        50   \n",
       "9888        17.0       2016   0.243205         B         B         5   \n",
       "9954         1.0       2016   0.072158         B         B         2   \n",
       "\n",
       "      Social_2  Social_3  Healthcare_1  Helthcare_2  Shops_1 Shops_2  \\\n",
       "26         629         1           NaN            0        0       A   \n",
       "95       13670         4           NaN            1       11       B   \n",
       "134       1564         0         540.0            0        0       B   \n",
       "158        629         1           NaN            0        0       A   \n",
       "160       1564         0         540.0            0        0       B   \n",
       "...        ...       ...           ...          ...      ...     ...   \n",
       "9756       915         0           NaN            0        0       B   \n",
       "9813       629         1           NaN            0        0       A   \n",
       "9828     12238         8        1970.0            2        3       B   \n",
       "9888      1564         0         540.0            0        0       B   \n",
       "9954       629         1           NaN            0        0       A   \n",
       "\n",
       "              Price  \n",
       "26    337299.867936  \n",
       "95    286564.441972  \n",
       "134   180727.643541  \n",
       "158   174687.566186  \n",
       "160   193361.229815  \n",
       "...             ...  \n",
       "9756  142789.948977  \n",
       "9813  224900.897679  \n",
       "9828  611250.912034  \n",
       "9888  159149.515475  \n",
       "9954  236647.781363  \n",
       "\n",
       "[198 rows x 20 columns]"
      ]
     },
     "execution_count": 233,
     "metadata": {},
     "output_type": "execute_result"
    }
   ],
   "source": [
    "df.loc[(df.LifeSquare < 10)]"
   ]
  },
  {
   "cell_type": "markdown",
   "metadata": {},
   "source": [
    "Невеверные значения, подлежащие коррекции (при необходимости, повторить)"
   ]
  },
  {
   "cell_type": "code",
   "execution_count": 234,
   "metadata": {},
   "outputs": [],
   "source": [
    "df.loc[(df.LifeSquare < 10), 'LifeSquare'] = df.loc[(df.LifeSquare < 10), 'LifeSquare'] * 10\n",
    "df.loc[(df.LifeSquare < 10), 'LifeSquare'] = df.loc[(df.LifeSquare < 10), 'LifeSquare'] * 10"
   ]
  },
  {
   "cell_type": "code",
   "execution_count": 235,
   "metadata": {},
   "outputs": [],
   "source": [
    "df.loc[df.LifeSquare > 5000, 'LifeSquare'] = df.LifeSquare.median()"
   ]
  },
  {
   "cell_type": "markdown",
   "metadata": {},
   "source": [
    "Нормализация поля $KitchenSquare$"
   ]
  },
  {
   "cell_type": "code",
   "execution_count": 236,
   "metadata": {},
   "outputs": [
    {
     "data": {
      "text/html": [
       "<div>\n",
       "<style scoped>\n",
       "    .dataframe tbody tr th:only-of-type {\n",
       "        vertical-align: middle;\n",
       "    }\n",
       "\n",
       "    .dataframe tbody tr th {\n",
       "        vertical-align: top;\n",
       "    }\n",
       "\n",
       "    .dataframe thead th {\n",
       "        text-align: right;\n",
       "    }\n",
       "</style>\n",
       "<table border=\"1\" class=\"dataframe\">\n",
       "  <thead>\n",
       "    <tr style=\"text-align: right;\">\n",
       "      <th></th>\n",
       "      <th>Id</th>\n",
       "      <th>DistrictId</th>\n",
       "      <th>Rooms</th>\n",
       "      <th>Square</th>\n",
       "      <th>LifeSquare</th>\n",
       "      <th>KitchenSquare</th>\n",
       "      <th>Floor</th>\n",
       "      <th>HouseFloor</th>\n",
       "      <th>HouseYear</th>\n",
       "      <th>Ecology_1</th>\n",
       "      <th>Ecology_2</th>\n",
       "      <th>Ecology_3</th>\n",
       "      <th>Social_1</th>\n",
       "      <th>Social_2</th>\n",
       "      <th>Social_3</th>\n",
       "      <th>Healthcare_1</th>\n",
       "      <th>Helthcare_2</th>\n",
       "      <th>Shops_1</th>\n",
       "      <th>Shops_2</th>\n",
       "      <th>Price</th>\n",
       "    </tr>\n",
       "  </thead>\n",
       "  <tbody>\n",
       "    <tr>\n",
       "      <td>2</td>\n",
       "      <td>4765</td>\n",
       "      <td>53.0</td>\n",
       "      <td>2</td>\n",
       "      <td>44.947953</td>\n",
       "      <td>29.197612</td>\n",
       "      <td>0.0</td>\n",
       "      <td>8</td>\n",
       "      <td>12.0</td>\n",
       "      <td>1968</td>\n",
       "      <td>0.049637</td>\n",
       "      <td>B</td>\n",
       "      <td>B</td>\n",
       "      <td>34</td>\n",
       "      <td>7759</td>\n",
       "      <td>0</td>\n",
       "      <td>229.0</td>\n",
       "      <td>1</td>\n",
       "      <td>3</td>\n",
       "      <td>B</td>\n",
       "      <td>220925.908524</td>\n",
       "    </tr>\n",
       "    <tr>\n",
       "      <td>7</td>\n",
       "      <td>11993</td>\n",
       "      <td>74.0</td>\n",
       "      <td>2</td>\n",
       "      <td>80.312926</td>\n",
       "      <td>32.784434</td>\n",
       "      <td>0.0</td>\n",
       "      <td>14</td>\n",
       "      <td>0.0</td>\n",
       "      <td>1977</td>\n",
       "      <td>0.075779</td>\n",
       "      <td>B</td>\n",
       "      <td>B</td>\n",
       "      <td>6</td>\n",
       "      <td>1437</td>\n",
       "      <td>3</td>\n",
       "      <td>NaN</td>\n",
       "      <td>0</td>\n",
       "      <td>2</td>\n",
       "      <td>B</td>\n",
       "      <td>221244.156664</td>\n",
       "    </tr>\n",
       "    <tr>\n",
       "      <td>23</td>\n",
       "      <td>6641</td>\n",
       "      <td>54.0</td>\n",
       "      <td>3</td>\n",
       "      <td>118.907612</td>\n",
       "      <td>32.784434</td>\n",
       "      <td>0.0</td>\n",
       "      <td>2</td>\n",
       "      <td>0.0</td>\n",
       "      <td>1977</td>\n",
       "      <td>0.006076</td>\n",
       "      <td>B</td>\n",
       "      <td>B</td>\n",
       "      <td>30</td>\n",
       "      <td>5285</td>\n",
       "      <td>0</td>\n",
       "      <td>645.0</td>\n",
       "      <td>6</td>\n",
       "      <td>6</td>\n",
       "      <td>B</td>\n",
       "      <td>571069.052600</td>\n",
       "    </tr>\n",
       "    <tr>\n",
       "      <td>26</td>\n",
       "      <td>4378</td>\n",
       "      <td>27.0</td>\n",
       "      <td>3</td>\n",
       "      <td>106.958871</td>\n",
       "      <td>64.182211</td>\n",
       "      <td>0.0</td>\n",
       "      <td>17</td>\n",
       "      <td>0.0</td>\n",
       "      <td>2018</td>\n",
       "      <td>0.072158</td>\n",
       "      <td>B</td>\n",
       "      <td>B</td>\n",
       "      <td>2</td>\n",
       "      <td>629</td>\n",
       "      <td>1</td>\n",
       "      <td>NaN</td>\n",
       "      <td>0</td>\n",
       "      <td>0</td>\n",
       "      <td>A</td>\n",
       "      <td>337299.867936</td>\n",
       "    </tr>\n",
       "    <tr>\n",
       "      <td>39</td>\n",
       "      <td>9371</td>\n",
       "      <td>23.0</td>\n",
       "      <td>2</td>\n",
       "      <td>60.503248</td>\n",
       "      <td>32.784434</td>\n",
       "      <td>0.0</td>\n",
       "      <td>16</td>\n",
       "      <td>0.0</td>\n",
       "      <td>1977</td>\n",
       "      <td>0.034656</td>\n",
       "      <td>B</td>\n",
       "      <td>B</td>\n",
       "      <td>0</td>\n",
       "      <td>168</td>\n",
       "      <td>0</td>\n",
       "      <td>NaN</td>\n",
       "      <td>0</td>\n",
       "      <td>0</td>\n",
       "      <td>B</td>\n",
       "      <td>229778.057902</td>\n",
       "    </tr>\n",
       "    <tr>\n",
       "      <td>...</td>\n",
       "      <td>...</td>\n",
       "      <td>...</td>\n",
       "      <td>...</td>\n",
       "      <td>...</td>\n",
       "      <td>...</td>\n",
       "      <td>...</td>\n",
       "      <td>...</td>\n",
       "      <td>...</td>\n",
       "      <td>...</td>\n",
       "      <td>...</td>\n",
       "      <td>...</td>\n",
       "      <td>...</td>\n",
       "      <td>...</td>\n",
       "      <td>...</td>\n",
       "      <td>...</td>\n",
       "      <td>...</td>\n",
       "      <td>...</td>\n",
       "      <td>...</td>\n",
       "      <td>...</td>\n",
       "      <td>...</td>\n",
       "    </tr>\n",
       "    <tr>\n",
       "      <td>9948</td>\n",
       "      <td>8438</td>\n",
       "      <td>1.0</td>\n",
       "      <td>2</td>\n",
       "      <td>66.736039</td>\n",
       "      <td>32.784434</td>\n",
       "      <td>0.0</td>\n",
       "      <td>16</td>\n",
       "      <td>17.0</td>\n",
       "      <td>1977</td>\n",
       "      <td>0.007122</td>\n",
       "      <td>B</td>\n",
       "      <td>B</td>\n",
       "      <td>1</td>\n",
       "      <td>264</td>\n",
       "      <td>0</td>\n",
       "      <td>NaN</td>\n",
       "      <td>0</td>\n",
       "      <td>1</td>\n",
       "      <td>B</td>\n",
       "      <td>199237.847364</td>\n",
       "    </tr>\n",
       "    <tr>\n",
       "      <td>9953</td>\n",
       "      <td>5365</td>\n",
       "      <td>1.0</td>\n",
       "      <td>2</td>\n",
       "      <td>61.049491</td>\n",
       "      <td>32.784434</td>\n",
       "      <td>0.0</td>\n",
       "      <td>11</td>\n",
       "      <td>17.0</td>\n",
       "      <td>1977</td>\n",
       "      <td>0.007122</td>\n",
       "      <td>B</td>\n",
       "      <td>B</td>\n",
       "      <td>1</td>\n",
       "      <td>264</td>\n",
       "      <td>0</td>\n",
       "      <td>NaN</td>\n",
       "      <td>0</td>\n",
       "      <td>1</td>\n",
       "      <td>B</td>\n",
       "      <td>190085.168584</td>\n",
       "    </tr>\n",
       "    <tr>\n",
       "      <td>9960</td>\n",
       "      <td>9307</td>\n",
       "      <td>1.0</td>\n",
       "      <td>2</td>\n",
       "      <td>57.376642</td>\n",
       "      <td>32.784434</td>\n",
       "      <td>0.0</td>\n",
       "      <td>8</td>\n",
       "      <td>25.0</td>\n",
       "      <td>2016</td>\n",
       "      <td>0.007122</td>\n",
       "      <td>B</td>\n",
       "      <td>B</td>\n",
       "      <td>1</td>\n",
       "      <td>264</td>\n",
       "      <td>0</td>\n",
       "      <td>NaN</td>\n",
       "      <td>0</td>\n",
       "      <td>1</td>\n",
       "      <td>B</td>\n",
       "      <td>104450.496477</td>\n",
       "    </tr>\n",
       "    <tr>\n",
       "      <td>9965</td>\n",
       "      <td>6612</td>\n",
       "      <td>27.0</td>\n",
       "      <td>2</td>\n",
       "      <td>59.460685</td>\n",
       "      <td>32.784434</td>\n",
       "      <td>0.0</td>\n",
       "      <td>15</td>\n",
       "      <td>19.0</td>\n",
       "      <td>1977</td>\n",
       "      <td>0.211401</td>\n",
       "      <td>B</td>\n",
       "      <td>B</td>\n",
       "      <td>9</td>\n",
       "      <td>1892</td>\n",
       "      <td>0</td>\n",
       "      <td>NaN</td>\n",
       "      <td>0</td>\n",
       "      <td>1</td>\n",
       "      <td>B</td>\n",
       "      <td>135784.320930</td>\n",
       "    </tr>\n",
       "    <tr>\n",
       "      <td>9987</td>\n",
       "      <td>15623</td>\n",
       "      <td>23.0</td>\n",
       "      <td>2</td>\n",
       "      <td>55.620092</td>\n",
       "      <td>32.784434</td>\n",
       "      <td>0.0</td>\n",
       "      <td>2</td>\n",
       "      <td>4.0</td>\n",
       "      <td>1977</td>\n",
       "      <td>0.034656</td>\n",
       "      <td>B</td>\n",
       "      <td>B</td>\n",
       "      <td>0</td>\n",
       "      <td>168</td>\n",
       "      <td>0</td>\n",
       "      <td>NaN</td>\n",
       "      <td>0</td>\n",
       "      <td>0</td>\n",
       "      <td>B</td>\n",
       "      <td>115797.553006</td>\n",
       "    </tr>\n",
       "  </tbody>\n",
       "</table>\n",
       "<p>696 rows × 20 columns</p>\n",
       "</div>"
      ],
      "text/plain": [
       "         Id  DistrictId  Rooms      Square  LifeSquare  KitchenSquare  Floor  \\\n",
       "2      4765        53.0      2   44.947953   29.197612            0.0      8   \n",
       "7     11993        74.0      2   80.312926   32.784434            0.0     14   \n",
       "23     6641        54.0      3  118.907612   32.784434            0.0      2   \n",
       "26     4378        27.0      3  106.958871   64.182211            0.0     17   \n",
       "39     9371        23.0      2   60.503248   32.784434            0.0     16   \n",
       "...     ...         ...    ...         ...         ...            ...    ...   \n",
       "9948   8438         1.0      2   66.736039   32.784434            0.0     16   \n",
       "9953   5365         1.0      2   61.049491   32.784434            0.0     11   \n",
       "9960   9307         1.0      2   57.376642   32.784434            0.0      8   \n",
       "9965   6612        27.0      2   59.460685   32.784434            0.0     15   \n",
       "9987  15623        23.0      2   55.620092   32.784434            0.0      2   \n",
       "\n",
       "      HouseFloor  HouseYear  Ecology_1 Ecology_2 Ecology_3  Social_1  \\\n",
       "2           12.0       1968   0.049637         B         B        34   \n",
       "7            0.0       1977   0.075779         B         B         6   \n",
       "23           0.0       1977   0.006076         B         B        30   \n",
       "26           0.0       2018   0.072158         B         B         2   \n",
       "39           0.0       1977   0.034656         B         B         0   \n",
       "...          ...        ...        ...       ...       ...       ...   \n",
       "9948        17.0       1977   0.007122         B         B         1   \n",
       "9953        17.0       1977   0.007122         B         B         1   \n",
       "9960        25.0       2016   0.007122         B         B         1   \n",
       "9965        19.0       1977   0.211401         B         B         9   \n",
       "9987         4.0       1977   0.034656         B         B         0   \n",
       "\n",
       "      Social_2  Social_3  Healthcare_1  Helthcare_2  Shops_1 Shops_2  \\\n",
       "2         7759         0         229.0            1        3       B   \n",
       "7         1437         3           NaN            0        2       B   \n",
       "23        5285         0         645.0            6        6       B   \n",
       "26         629         1           NaN            0        0       A   \n",
       "39         168         0           NaN            0        0       B   \n",
       "...        ...       ...           ...          ...      ...     ...   \n",
       "9948       264         0           NaN            0        1       B   \n",
       "9953       264         0           NaN            0        1       B   \n",
       "9960       264         0           NaN            0        1       B   \n",
       "9965      1892         0           NaN            0        1       B   \n",
       "9987       168         0           NaN            0        0       B   \n",
       "\n",
       "              Price  \n",
       "2     220925.908524  \n",
       "7     221244.156664  \n",
       "23    571069.052600  \n",
       "26    337299.867936  \n",
       "39    229778.057902  \n",
       "...             ...  \n",
       "9948  199237.847364  \n",
       "9953  190085.168584  \n",
       "9960  104450.496477  \n",
       "9965  135784.320930  \n",
       "9987  115797.553006  \n",
       "\n",
       "[696 rows x 20 columns]"
      ]
     },
     "execution_count": 236,
     "metadata": {},
     "output_type": "execute_result"
    }
   ],
   "source": [
    "df.loc[(df.KitchenSquare == 0)] "
   ]
  },
  {
   "cell_type": "markdown",
   "metadata": {},
   "source": [
    "Невеверные значения, подлежащие коррекции"
   ]
  },
  {
   "cell_type": "code",
   "execution_count": 237,
   "metadata": {},
   "outputs": [],
   "source": [
    "df.loc[(df.KitchenSquare == 0), 'KitchenSquare'] = df.KitchenSquare.median()\n",
    "df.loc[(df.KitchenSquare > df.LifeSquare), 'KitchenSquare'] = df.KitchenSquare.median()"
   ]
  },
  {
   "cell_type": "markdown",
   "metadata": {},
   "source": [
    "Нормализация поля $Floor$"
   ]
  },
  {
   "cell_type": "code",
   "execution_count": 238,
   "metadata": {},
   "outputs": [
    {
     "data": {
      "text/html": [
       "<div>\n",
       "<style scoped>\n",
       "    .dataframe tbody tr th:only-of-type {\n",
       "        vertical-align: middle;\n",
       "    }\n",
       "\n",
       "    .dataframe tbody tr th {\n",
       "        vertical-align: top;\n",
       "    }\n",
       "\n",
       "    .dataframe thead th {\n",
       "        text-align: right;\n",
       "    }\n",
       "</style>\n",
       "<table border=\"1\" class=\"dataframe\">\n",
       "  <thead>\n",
       "    <tr style=\"text-align: right;\">\n",
       "      <th></th>\n",
       "      <th>Id</th>\n",
       "      <th>DistrictId</th>\n",
       "      <th>Rooms</th>\n",
       "      <th>Square</th>\n",
       "      <th>LifeSquare</th>\n",
       "      <th>KitchenSquare</th>\n",
       "      <th>Floor</th>\n",
       "      <th>HouseFloor</th>\n",
       "      <th>HouseYear</th>\n",
       "      <th>Ecology_1</th>\n",
       "      <th>Ecology_2</th>\n",
       "      <th>Ecology_3</th>\n",
       "      <th>Social_1</th>\n",
       "      <th>Social_2</th>\n",
       "      <th>Social_3</th>\n",
       "      <th>Healthcare_1</th>\n",
       "      <th>Helthcare_2</th>\n",
       "      <th>Shops_1</th>\n",
       "      <th>Shops_2</th>\n",
       "      <th>Price</th>\n",
       "    </tr>\n",
       "  </thead>\n",
       "  <tbody>\n",
       "  </tbody>\n",
       "</table>\n",
       "</div>"
      ],
      "text/plain": [
       "Empty DataFrame\n",
       "Columns: [Id, DistrictId, Rooms, Square, LifeSquare, KitchenSquare, Floor, HouseFloor, HouseYear, Ecology_1, Ecology_2, Ecology_3, Social_1, Social_2, Social_3, Healthcare_1, Helthcare_2, Shops_1, Shops_2, Price]\n",
       "Index: []"
      ]
     },
     "execution_count": 238,
     "metadata": {},
     "output_type": "execute_result"
    }
   ],
   "source": [
    "df.loc[(df.Floor > 100)]"
   ]
  },
  {
   "cell_type": "code",
   "execution_count": null,
   "metadata": {},
   "outputs": [],
   "source": []
  },
  {
   "cell_type": "markdown",
   "metadata": {},
   "source": [
    "Нормализация поля $HouseFloor$"
   ]
  },
  {
   "cell_type": "code",
   "execution_count": 239,
   "metadata": {},
   "outputs": [],
   "source": [
    "df.HouseFloor = df.HouseFloor.astype(int)"
   ]
  },
  {
   "cell_type": "code",
   "execution_count": 240,
   "metadata": {},
   "outputs": [
    {
     "name": "stdout",
     "output_type": "stream",
     "text": [
      "    HouseFloor  Count\n",
      "43         117      1\n",
      "42          99      2\n",
      "41          48      2\n",
      "40          47      1\n",
      "39          45      1\n",
      "38          44      1\n",
      "37          40      7\n",
      "36          39      2\n",
      "35          38      1\n",
      "34          37      4\n"
     ]
    }
   ],
   "source": [
    "print(getStatisticsByColumn('HouseFloor', 'HouseFloor', False)[:10])"
   ]
  },
  {
   "cell_type": "code",
   "execution_count": 241,
   "metadata": {},
   "outputs": [],
   "source": [
    "df.loc[(df.HouseFloor > 50), 'HouseFloor'] = df.HouseFloor.median()"
   ]
  },
  {
   "cell_type": "markdown",
   "metadata": {},
   "source": [
    "Нормализация поля $HouseYear$"
   ]
  },
  {
   "cell_type": "code",
   "execution_count": 242,
   "metadata": {},
   "outputs": [
    {
     "name": "stdout",
     "output_type": "stream",
     "text": [
      "    HouseYear  Count\n",
      "0        1910      1\n",
      "95       4968      1\n",
      "22       1947      1\n",
      "7        1928      1\n",
      "96   20052011      1\n",
      "3        1916      1\n",
      "2        1914      1\n",
      "1        1912      2\n",
      "8        1929      2\n",
      "11       1932      2\n"
     ]
    }
   ],
   "source": [
    "print(getStatisticsByColumn('HouseYear')[:10])"
   ]
  },
  {
   "cell_type": "code",
   "execution_count": 243,
   "metadata": {},
   "outputs": [],
   "source": [
    "df.loc[(df.HouseYear == 20052011), 'HouseYear'] = 2005\n",
    "df.loc[(df.HouseYear > 2020), 'HouseYear'] = df.HouseYear.median()"
   ]
  },
  {
   "cell_type": "markdown",
   "metadata": {},
   "source": [
    "Нормализация поля $Ecology\\_1$"
   ]
  },
  {
   "cell_type": "code",
   "execution_count": 244,
   "metadata": {},
   "outputs": [
    {
     "name": "stdout",
     "output_type": "stream",
     "text": [
      "        Ecology_1  Count\n",
      "21   1.433395e-02    1.0\n",
      "18   1.252163e-02    1.0\n",
      "121  3.940942e-01    2.0\n",
      "15   1.131981e-02    3.0\n",
      "120  3.867717e-01    6.0\n",
      "23   1.458072e-02    7.0\n",
      "105  2.466236e-01    9.0\n",
      "1    1.800000e-09   10.0\n",
      "49   5.181543e-02   11.0\n",
      "9    4.949358e-03   11.0\n"
     ]
    }
   ],
   "source": [
    "print(getStatisticsByColumn('Ecology_1')[:10])"
   ]
  },
  {
   "cell_type": "code",
   "execution_count": null,
   "metadata": {},
   "outputs": [],
   "source": []
  },
  {
   "cell_type": "markdown",
   "metadata": {},
   "source": [
    "Нормализация поля $Ecology\\_2$\n",
    "<br>\n",
    "<br>\n",
    "Преобразуем категориальный признак $Ecology\\_2$ в несколько бинарных"
   ]
  },
  {
   "cell_type": "code",
   "execution_count": 245,
   "metadata": {},
   "outputs": [],
   "source": [
    "df = transformCategorialToBinary(df, 'Ecology_2')\n",
    "df.drop(\"Ecology_2B\", axis=1, inplace=True)"
   ]
  },
  {
   "cell_type": "code",
   "execution_count": 246,
   "metadata": {},
   "outputs": [
    {
     "name": "stdout",
     "output_type": "stream",
     "text": [
      "   Ecology_2A  Count\n",
      "1           1     97\n",
      "0           0   9893\n"
     ]
    }
   ],
   "source": [
    "print(getStatisticsByColumn('Ecology_2A')[:10])"
   ]
  },
  {
   "cell_type": "code",
   "execution_count": 247,
   "metadata": {},
   "outputs": [
    {
     "name": "stdout",
     "output_type": "stream",
     "text": [
      "<class 'pandas.core.frame.DataFrame'>\n",
      "Int64Index: 9990 entries, 0 to 9999\n",
      "Data columns (total 20 columns):\n",
      "Id               9990 non-null int64\n",
      "DistrictId       9990 non-null float64\n",
      "Rooms            9990 non-null int32\n",
      "Square           9990 non-null float64\n",
      "LifeSquare       9990 non-null float64\n",
      "KitchenSquare    9990 non-null float64\n",
      "Floor            9990 non-null int64\n",
      "HouseFloor       9990 non-null float64\n",
      "HouseYear        9990 non-null float64\n",
      "Ecology_1        9990 non-null float64\n",
      "Ecology_3        9990 non-null object\n",
      "Social_1         9990 non-null int64\n",
      "Social_2         9990 non-null int64\n",
      "Social_3         9990 non-null int64\n",
      "Healthcare_1     5199 non-null float64\n",
      "Helthcare_2      9990 non-null int64\n",
      "Shops_1          9990 non-null int64\n",
      "Shops_2          9990 non-null object\n",
      "Price            9990 non-null float64\n",
      "Ecology_2A       9990 non-null uint8\n",
      "dtypes: float64(9), int32(1), int64(7), object(2), uint8(1)\n",
      "memory usage: 1.5+ MB\n"
     ]
    }
   ],
   "source": [
    "df.info()"
   ]
  },
  {
   "cell_type": "markdown",
   "metadata": {},
   "source": [
    "Нормализация поля $Ecology\\_3$\n",
    "<br>\n",
    "<br>\n",
    "Преобразуем категориальный признак $Ecology\\_3$ в несколько бинарных"
   ]
  },
  {
   "cell_type": "code",
   "execution_count": 248,
   "metadata": {},
   "outputs": [],
   "source": [
    "df = transformCategorialToBinary(df, 'Ecology_3')\n",
    "df.drop(\"Ecology_3B\", axis=1, inplace=True)"
   ]
  },
  {
   "cell_type": "code",
   "execution_count": 249,
   "metadata": {},
   "outputs": [
    {
     "name": "stdout",
     "output_type": "stream",
     "text": [
      "   Ecology_3A  Count\n",
      "1           1    275\n",
      "0           0   9715\n"
     ]
    }
   ],
   "source": [
    "print(getStatisticsByColumn('Ecology_3A')[:10])"
   ]
  },
  {
   "cell_type": "code",
   "execution_count": null,
   "metadata": {},
   "outputs": [],
   "source": []
  },
  {
   "cell_type": "markdown",
   "metadata": {},
   "source": [
    "Нормализация поля $Social\\_1$"
   ]
  },
  {
   "cell_type": "code",
   "execution_count": 250,
   "metadata": {},
   "outputs": [
    {
     "name": "stdout",
     "output_type": "stream",
     "text": [
      "   Social_1  Count\n",
      "0         0    201\n",
      "1         1    652\n",
      "2         2    688\n",
      "3         3      9\n",
      "4         4    141\n",
      "5         5    527\n",
      "6         6    377\n",
      "7         7     15\n",
      "8         8     62\n",
      "9         9    211\n"
     ]
    }
   ],
   "source": [
    "print(getStatisticsByColumn('Social_1', 'Social_1')[:10])"
   ]
  },
  {
   "cell_type": "code",
   "execution_count": null,
   "metadata": {},
   "outputs": [],
   "source": []
  },
  {
   "cell_type": "markdown",
   "metadata": {},
   "source": [
    "Нормализация поля $Social\\_2$"
   ]
  },
  {
   "cell_type": "code",
   "execution_count": 251,
   "metadata": {},
   "outputs": [
    {
     "name": "stdout",
     "output_type": "stream",
     "text": [
      "   Social_2  Count\n",
      "0       168    190\n",
      "1       186     11\n",
      "2       264    585\n",
      "3       290     11\n",
      "4       388     56\n",
      "5       469    142\n",
      "6       475     55\n",
      "7       507      1\n",
      "8       528      1\n",
      "9       568      3\n"
     ]
    }
   ],
   "source": [
    "print(getStatisticsByColumn('Social_2', 'Social_2')[:10])"
   ]
  },
  {
   "cell_type": "code",
   "execution_count": null,
   "metadata": {},
   "outputs": [],
   "source": []
  },
  {
   "cell_type": "markdown",
   "metadata": {},
   "source": [
    "Нормализация поля $Social\\_3$"
   ]
  },
  {
   "cell_type": "code",
   "execution_count": 252,
   "metadata": {},
   "outputs": [
    {
     "name": "stdout",
     "output_type": "stream",
     "text": [
      "   Social_3  Count\n",
      "0         0   2992\n",
      "1         1   1861\n",
      "2         2    634\n",
      "3         3   1135\n",
      "4         4    833\n",
      "5         5    391\n",
      "6         6    422\n",
      "7         7    184\n",
      "8         8    170\n",
      "9         9    192\n"
     ]
    }
   ],
   "source": [
    "print(getStatisticsByColumn('Social_3', 'Social_3')[:10])"
   ]
  },
  {
   "cell_type": "code",
   "execution_count": null,
   "metadata": {},
   "outputs": [],
   "source": []
  },
  {
   "cell_type": "markdown",
   "metadata": {},
   "source": [
    "Нормализация поля $Healthcare\\_1$\n",
    "<br>\n",
    "<br>\n",
    "Признак $Healthcare\\_1$ имеeт высокую степень разряжения.\n",
    "<br>\n",
    "Заполняем отсутсвующие в этом столбце значения соотвествующими медианными значениями. "
   ]
  },
  {
   "cell_type": "code",
   "execution_count": 253,
   "metadata": {},
   "outputs": [
    {
     "data": {
      "text/plain": [
       "0"
      ]
     },
     "execution_count": 253,
     "metadata": {},
     "output_type": "execute_result"
    }
   ],
   "source": [
    "fillEmptyObservationsByMedian('Healthcare_1')"
   ]
  },
  {
   "cell_type": "code",
   "execution_count": 254,
   "metadata": {},
   "outputs": [
    {
     "name": "stdout",
     "output_type": "stream",
     "text": [
      "   Healthcare_1  Count\n",
      "0           0.0    1.0\n",
      "1          30.0  348.0\n",
      "2          32.0   12.0\n",
      "3          35.0    2.0\n",
      "4          46.0   49.0\n",
      "5          75.0   16.0\n",
      "6          80.0   35.0\n",
      "7         100.0   25.0\n",
      "8         125.0  103.0\n",
      "9         145.0   50.0\n"
     ]
    }
   ],
   "source": [
    "print(getStatisticsByColumn('Healthcare_1', 'Healthcare_1')[:10])"
   ]
  },
  {
   "cell_type": "code",
   "execution_count": 255,
   "metadata": {},
   "outputs": [],
   "source": [
    "df.Healthcare_1 = df.Healthcare_1.astype(int)"
   ]
  },
  {
   "cell_type": "code",
   "execution_count": null,
   "metadata": {},
   "outputs": [],
   "source": []
  },
  {
   "cell_type": "markdown",
   "metadata": {},
   "source": [
    "Нормализация поля $Healthcare\\_2$"
   ]
  },
  {
   "cell_type": "code",
   "execution_count": 256,
   "metadata": {},
   "outputs": [],
   "source": [
    "df.rename(columns={\"Helthcare_2\": \"Healthcare_2\"}, inplace=True)"
   ]
  },
  {
   "cell_type": "code",
   "execution_count": 257,
   "metadata": {},
   "outputs": [
    {
     "name": "stdout",
     "output_type": "stream",
     "text": [
      "   Healthcare_2  Count\n",
      "6             6     99\n",
      "4             4    287\n",
      "5             5    388\n",
      "2             2   1158\n",
      "3             3   1668\n",
      "1             1   2182\n",
      "0             0   4208\n"
     ]
    }
   ],
   "source": [
    "print(getStatisticsByColumn('Healthcare_2')[:10])"
   ]
  },
  {
   "cell_type": "code",
   "execution_count": null,
   "metadata": {},
   "outputs": [],
   "source": []
  },
  {
   "cell_type": "markdown",
   "metadata": {},
   "source": [
    "Нормализация поля $Shops\\_1$"
   ]
  },
  {
   "cell_type": "code",
   "execution_count": 258,
   "metadata": {},
   "outputs": [
    {
     "name": "stdout",
     "output_type": "stream",
     "text": [
      "    Shops_1  Count\n",
      "14       19     49\n",
      "13       16     83\n",
      "12       15    176\n",
      "10       10    215\n",
      "15       23    245\n",
      "8         8    253\n",
      "7         7    293\n",
      "9         9    315\n",
      "11       11    400\n",
      "6         6    487\n"
     ]
    }
   ],
   "source": [
    "print(getStatisticsByColumn('Shops_1')[:10])"
   ]
  },
  {
   "cell_type": "code",
   "execution_count": null,
   "metadata": {},
   "outputs": [],
   "source": []
  },
  {
   "cell_type": "markdown",
   "metadata": {},
   "source": [
    "Нормализация поля $Shops\\_2$\n",
    "<br>\n",
    "Преобразуем категориальный признак $Shops\\_2$ в несколько бинарных"
   ]
  },
  {
   "cell_type": "code",
   "execution_count": 259,
   "metadata": {},
   "outputs": [],
   "source": [
    "df = transformCategorialToBinary(df, 'Shops_2')\n",
    "df.drop(\"Shops_2B\", axis=1, inplace=True)"
   ]
  },
  {
   "cell_type": "code",
   "execution_count": 260,
   "metadata": {},
   "outputs": [
    {
     "name": "stdout",
     "output_type": "stream",
     "text": [
      "   Shops_2A  Count\n",
      "1         1    825\n",
      "0         0   9165\n"
     ]
    }
   ],
   "source": [
    "print(getStatisticsByColumn('Shops_2A')[:10])"
   ]
  },
  {
   "cell_type": "markdown",
   "metadata": {},
   "source": [
    "##### Сохранение и извлечение модели из файла (pickle формат) для более быстрой инициализации"
   ]
  },
  {
   "cell_type": "code",
   "execution_count": 472,
   "metadata": {},
   "outputs": [
    {
     "name": "stdout",
     "output_type": "stream",
     "text": [
      "<class 'pandas.core.frame.DataFrame'>\n",
      "Int64Index: 9990 entries, 0 to 9999\n",
      "Data columns (total 20 columns):\n",
      "Id               9990 non-null int64\n",
      "DistrictId       9990 non-null float64\n",
      "Rooms            9990 non-null int32\n",
      "Square           9990 non-null float64\n",
      "LifeSquare       9990 non-null float64\n",
      "KitchenSquare    9990 non-null float64\n",
      "Floor            9990 non-null int64\n",
      "HouseFloor       9990 non-null float64\n",
      "HouseYear        9990 non-null float64\n",
      "Ecology_1        9990 non-null float64\n",
      "Social_1         9990 non-null int64\n",
      "Social_2         9990 non-null int64\n",
      "Social_3         9990 non-null int64\n",
      "Healthcare_1     9990 non-null int32\n",
      "Healthcare_2     9990 non-null int64\n",
      "Shops_1          9990 non-null int64\n",
      "Price            9990 non-null float64\n",
      "Ecology_2A       9990 non-null uint8\n",
      "Ecology_3A       9990 non-null uint8\n",
      "Shops_2A         9990 non-null uint8\n",
      "dtypes: float64(8), int32(2), int64(7), uint8(3)\n",
      "memory usage: 1.3 MB\n"
     ]
    }
   ],
   "source": [
    "df.info()"
   ]
  },
  {
   "cell_type": "code",
   "execution_count": 261,
   "metadata": {},
   "outputs": [],
   "source": [
    "df.to_pickle(\"./dummy.pkl\")"
   ]
  },
  {
   "cell_type": "code",
   "execution_count": 3,
   "metadata": {},
   "outputs": [],
   "source": [
    "df = pd.read_pickle(\"./dummy.pkl\")"
   ]
  },
  {
   "cell_type": "markdown",
   "metadata": {},
   "source": [
    "#### Анализ модели "
   ]
  },
  {
   "cell_type": "code",
   "execution_count": 4,
   "metadata": {},
   "outputs": [
    {
     "data": {
      "text/plain": [
       "(214055.18, 192255.01789602835, 59174.77802758122)"
      ]
     },
     "execution_count": 4,
     "metadata": {},
     "output_type": "execute_result"
    }
   ],
   "source": [
    "target_mean = round(df.Price.mean(), 2)\n",
    "target_median = df.Price.median()\n",
    "target_mode = df.Price.mode()[0]\n",
    "\n",
    "target_mean, target_median, target_mode"
   ]
  },
  {
   "cell_type": "code",
   "execution_count": 5,
   "metadata": {},
   "outputs": [],
   "source": [
    "feature_names = df.columns.tolist()[1:]\n",
    "feature_names.remove('Price')"
   ]
  },
  {
   "cell_type": "markdown",
   "metadata": {},
   "source": [
    "##### Проверка на всех признаках"
   ]
  },
  {
   "cell_type": "code",
   "execution_count": 404,
   "metadata": {},
   "outputs": [
    {
     "name": "stdout",
     "output_type": "stream",
     "text": [
      "<class 'pandas.core.frame.DataFrame'>\n",
      "Int64Index: 9990 entries, 0 to 9999\n",
      "Data columns (total 1 columns):\n",
      "Price    9990 non-null float64\n",
      "dtypes: float64(1)\n",
      "memory usage: 156.1 KB\n"
     ]
    }
   ],
   "source": [
    "X = df[feature_names]\n",
    "y = df[['Price']]\n",
    "\n",
    "y.info()"
   ]
  },
  {
   "cell_type": "code",
   "execution_count": 405,
   "metadata": {},
   "outputs": [],
   "source": [
    "X_train, X_test, y_train, y_test = train_test_split(X, y, test_size=0.3, random_state=42)"
   ]
  },
  {
   "cell_type": "code",
   "execution_count": 406,
   "metadata": {},
   "outputs": [],
   "source": [
    "rfr = RandomForestRegressor(n_estimators=1000, max_depth=400, random_state=42)"
   ]
  },
  {
   "cell_type": "code",
   "execution_count": 268,
   "metadata": {},
   "outputs": [
    {
     "name": "stdout",
     "output_type": "stream",
     "text": [
      "Wall time: 55.5 s\n"
     ]
    },
    {
     "data": {
      "text/plain": [
       "RandomForestRegressor(bootstrap=True, criterion='mse', max_depth=400,\n",
       "                      max_features='auto', max_leaf_nodes=None,\n",
       "                      min_impurity_decrease=0.0, min_impurity_split=None,\n",
       "                      min_samples_leaf=1, min_samples_split=2,\n",
       "                      min_weight_fraction_leaf=0.0, n_estimators=1000,\n",
       "                      n_jobs=None, oob_score=False, random_state=42, verbose=0,\n",
       "                      warm_start=False)"
      ]
     },
     "execution_count": 268,
     "metadata": {},
     "output_type": "execute_result"
    }
   ],
   "source": [
    "%%time\n",
    "\n",
    "rfr.fit(X_train, y_train.values[:, 0])"
   ]
  },
  {
   "cell_type": "code",
   "execution_count": 269,
   "metadata": {},
   "outputs": [],
   "source": [
    "y_pred = rfr.predict(X_test)"
   ]
  },
  {
   "cell_type": "code",
   "execution_count": 270,
   "metadata": {},
   "outputs": [
    {
     "data": {
      "text/html": [
       "<div>\n",
       "<style scoped>\n",
       "    .dataframe tbody tr th:only-of-type {\n",
       "        vertical-align: middle;\n",
       "    }\n",
       "\n",
       "    .dataframe tbody tr th {\n",
       "        vertical-align: top;\n",
       "    }\n",
       "\n",
       "    .dataframe thead th {\n",
       "        text-align: right;\n",
       "    }\n",
       "</style>\n",
       "<table border=\"1\" class=\"dataframe\">\n",
       "  <thead>\n",
       "    <tr style=\"text-align: right;\">\n",
       "      <th></th>\n",
       "      <th>y_test</th>\n",
       "      <th>y_pred</th>\n",
       "      <th>error</th>\n",
       "    </tr>\n",
       "  </thead>\n",
       "  <tbody>\n",
       "    <tr>\n",
       "      <td>4026</td>\n",
       "      <td>469497.535186</td>\n",
       "      <td>493178.437378</td>\n",
       "      <td>23680.902192</td>\n",
       "    </tr>\n",
       "    <tr>\n",
       "      <td>5417</td>\n",
       "      <td>182453.436044</td>\n",
       "      <td>193591.207333</td>\n",
       "      <td>11137.771289</td>\n",
       "    </tr>\n",
       "    <tr>\n",
       "      <td>488</td>\n",
       "      <td>118939.006034</td>\n",
       "      <td>120545.577158</td>\n",
       "      <td>1606.571124</td>\n",
       "    </tr>\n",
       "    <tr>\n",
       "      <td>39</td>\n",
       "      <td>229778.057902</td>\n",
       "      <td>147930.385496</td>\n",
       "      <td>-81847.672405</td>\n",
       "    </tr>\n",
       "    <tr>\n",
       "      <td>6801</td>\n",
       "      <td>329629.767283</td>\n",
       "      <td>378735.860435</td>\n",
       "      <td>49106.093152</td>\n",
       "    </tr>\n",
       "  </tbody>\n",
       "</table>\n",
       "</div>"
      ],
      "text/plain": [
       "             y_test         y_pred         error\n",
       "4026  469497.535186  493178.437378  23680.902192\n",
       "5417  182453.436044  193591.207333  11137.771289\n",
       "488   118939.006034  120545.577158   1606.571124\n",
       "39    229778.057902  147930.385496 -81847.672405\n",
       "6801  329629.767283  378735.860435  49106.093152"
      ]
     },
     "execution_count": 270,
     "metadata": {},
     "output_type": "execute_result"
    }
   ],
   "source": [
    "check_test_rfr = pd.DataFrame({\n",
    "    \"y_test\": y_test[\"Price\"],\n",
    "    \"y_pred\": y_pred.flatten()\n",
    "})\n",
    "\n",
    "check_test_rfr[\"error\"] = check_test_rfr[\"y_pred\"] - check_test_rfr[\"y_test\"]\n",
    "\n",
    "check_test_rfr.head()"
   ]
  },
  {
   "cell_type": "code",
   "execution_count": 271,
   "metadata": {},
   "outputs": [
    {
     "data": {
      "text/plain": [
       "2179256520.81118"
      ]
     },
     "execution_count": 271,
     "metadata": {},
     "output_type": "execute_result"
    }
   ],
   "source": [
    "mean_squared_error(check_test_rfr[\"y_test\"], check_test_rfr[\"y_pred\"])"
   ]
  },
  {
   "cell_type": "code",
   "execution_count": 272,
   "metadata": {},
   "outputs": [
    {
     "data": {
      "text/plain": [
       "27886.73152386447"
      ]
     },
     "execution_count": 272,
     "metadata": {},
     "output_type": "execute_result"
    }
   ],
   "source": [
    "mean_absolute_error(check_test_rfr[\"y_test\"], check_test_rfr[\"y_pred\"])"
   ]
  },
  {
   "cell_type": "code",
   "execution_count": 273,
   "metadata": {},
   "outputs": [
    {
     "data": {
      "text/plain": [
       "0.7533499457303371"
      ]
     },
     "execution_count": 273,
     "metadata": {},
     "output_type": "execute_result"
    }
   ],
   "source": [
    "r2_score(check_test_rfr[\"y_test\"], check_test_rfr[\"y_pred\"]) "
   ]
  },
  {
   "cell_type": "code",
   "execution_count": 274,
   "metadata": {},
   "outputs": [
    {
     "data": {
      "image/png": "[encoded data removed]",
      "text/plain": [
       "<Figure size 432x288 with 1 Axes>"
      ]
     },
     "metadata": {
      "needs_background": "light"
     },
     "output_type": "display_data"
    }
   ],
   "source": [
    "plt.barh(feature_names, rfr.feature_importances_.flatten())\n",
    "\n",
    "plt.xlabel(\"Вес признака\")\n",
    "plt.ylabel(\"Признак\")\n",
    "\n",
    "plt.show()"
   ]
  },
  {
   "cell_type": "markdown",
   "metadata": {},
   "source": []
  },
  {
   "cell_type": "code",
   "execution_count": 473,
   "metadata": {},
   "outputs": [
    {
     "name": "stdout",
     "output_type": "stream",
     "text": [
      "['DistrictId', 'Rooms', 'Square', 'LifeSquare', 'KitchenSquare', 'Floor', 'HouseFloor', 'HouseYear', 'Ecology_1', 'Social_1', 'Social_2', 'Social_3', 'Healthcare_1', 'Healthcare_2']\n"
     ]
    }
   ],
   "source": [
    "feature_names_for_stand = [\n",
    "    feature\n",
    "    for feature, weight in zip(feature_names, rfr.feature_importances_.flatten())\n",
    "    if np.abs(weight) > 0.01\n",
    "]\n",
    "\n",
    "print(feature_names_for_stand)"
   ]
  },
  {
   "cell_type": "code",
   "execution_count": 474,
   "metadata": {},
   "outputs": [
    {
     "data": {
      "image/png": "[encoded data removed]",
      "text/plain": [
       "<Figure size 720x720 with 16 Axes>"
      ]
     },
     "metadata": {
      "needs_background": "light"
     },
     "output_type": "display_data"
    }
   ],
   "source": [
    "df_num_features = df[feature_names_for_stand]\n",
    "\n",
    "df_num_features.hist(figsize=(10,10), bins=20, grid=False);"
   ]
  },
  {
   "cell_type": "markdown",
   "metadata": {},
   "source": [
    "#### Подготовка и обучение модели"
   ]
  },
  {
   "cell_type": "code",
   "execution_count": 475,
   "metadata": {},
   "outputs": [
    {
     "name": "stdout",
     "output_type": "stream",
     "text": [
      "<class 'pandas.core.frame.DataFrame'>\n",
      "Int64Index: 9990 entries, 0 to 9999\n",
      "Data columns (total 14 columns):\n",
      "DistrictId       9990 non-null float64\n",
      "Rooms            9990 non-null int32\n",
      "Square           9990 non-null float64\n",
      "LifeSquare       9990 non-null float64\n",
      "KitchenSquare    9990 non-null float64\n",
      "Floor            9990 non-null int64\n",
      "HouseFloor       9990 non-null float64\n",
      "HouseYear        9990 non-null float64\n",
      "Ecology_1        9990 non-null float64\n",
      "Social_1         9990 non-null int64\n",
      "Social_2         9990 non-null int64\n",
      "Social_3         9990 non-null int64\n",
      "Healthcare_1     9990 non-null int32\n",
      "Healthcare_2     9990 non-null int64\n",
      "dtypes: float64(7), int32(2), int64(5)\n",
      "memory usage: 1.1 MB\n"
     ]
    }
   ],
   "source": [
    "X = df[feature_names_for_stand]\n",
    "y = df[['Price']]\n",
    "\n",
    "X.info()"
   ]
  },
  {
   "cell_type": "code",
   "execution_count": 476,
   "metadata": {},
   "outputs": [],
   "source": [
    "X_train, X_test, y_train, y_test = train_test_split(X, y, test_size=0.3, random_state=42)"
   ]
  },
  {
   "cell_type": "code",
   "execution_count": 477,
   "metadata": {},
   "outputs": [],
   "source": [
    "rfr = RandomForestRegressor()"
   ]
  },
  {
   "cell_type": "markdown",
   "metadata": {},
   "source": [
    "Попробуем натянуть сетку"
   ]
  },
  {
   "cell_type": "code",
   "execution_count": 280,
   "metadata": {},
   "outputs": [],
   "source": [
    "param_grid = {\n",
    "    'bootstrap': [True],\n",
    "    'max_depth': [50, 100],\n",
    "    'max_features': [1, 2],\n",
    "    'min_samples_leaf': [1, 2],\n",
    "    'min_samples_split': [2, 4],\n",
    "    'n_estimators': [1000]\n",
    "}\n",
    "\n",
    "grid_search = GridSearchCV(estimator = rfr, \n",
    "                           param_grid = param_grid, \n",
    "                           cv = 3\n",
    "                          )"
   ]
  },
  {
   "cell_type": "code",
   "execution_count": 281,
   "metadata": {},
   "outputs": [],
   "source": [
    "from sklearn import preprocessing\n",
    "from sklearn import utils"
   ]
  },
  {
   "cell_type": "code",
   "execution_count": 282,
   "metadata": {},
   "outputs": [],
   "source": [
    "lab_enc = preprocessing.LabelEncoder()\n",
    "y_train_encoded = lab_enc.fit_transform(y_train)"
   ]
  },
  {
   "cell_type": "code",
   "execution_count": 283,
   "metadata": {
    "scrolled": true
   },
   "outputs": [
    {
     "name": "stdout",
     "output_type": "stream",
     "text": [
      "Wall time: 5min 50s\n"
     ]
    },
    {
     "data": {
      "text/plain": [
       "GridSearchCV(cv=3, error_score='raise-deprecating',\n",
       "             estimator=RandomForestRegressor(bootstrap=True, criterion='mse',\n",
       "                                             max_depth=None,\n",
       "                                             max_features='auto',\n",
       "                                             max_leaf_nodes=None,\n",
       "                                             min_impurity_decrease=0.0,\n",
       "                                             min_impurity_split=None,\n",
       "                                             min_samples_leaf=1,\n",
       "                                             min_samples_split=2,\n",
       "                                             min_weight_fraction_leaf=0.0,\n",
       "                                             n_estimators='warn', n_jobs=None,\n",
       "                                             oob_score=False, random_state=None,\n",
       "                                             verbose=0, warm_start=False),\n",
       "             iid='warn', n_jobs=None,\n",
       "             param_grid={'bootstrap': [True], 'max_depth': [50, 100],\n",
       "                         'max_features': [1, 2], 'min_samples_leaf': [1, 2],\n",
       "                         'min_samples_split': [2, 4], 'n_estimators': [1000]},\n",
       "             pre_dispatch='2*n_jobs', refit=True, return_train_score=False,\n",
       "             scoring=None, verbose=0)"
      ]
     },
     "execution_count": 283,
     "metadata": {},
     "output_type": "execute_result"
    }
   ],
   "source": [
    "%%time\n",
    "\n",
    "grid_search.fit(X_train, y_train_encoded)"
   ]
  },
  {
   "cell_type": "code",
   "execution_count": 284,
   "metadata": {},
   "outputs": [
    {
     "name": "stdout",
     "output_type": "stream",
     "text": [
      "{'bootstrap': True, 'max_depth': 50, 'max_features': 2, 'min_samples_leaf': 1, 'min_samples_split': 4, 'n_estimators': 1000}\n"
     ]
    }
   ],
   "source": [
    "print(grid_search.best_params_)"
   ]
  },
  {
   "cell_type": "code",
   "execution_count": 412,
   "metadata": {},
   "outputs": [],
   "source": [
    "rfr = RandomForestRegressor(\n",
    "    bootstrap=True, \n",
    "    max_depth=100, \n",
    "    max_features=3, \n",
    "    min_samples_leaf=1,\n",
    "    min_samples_split=4,\n",
    "    n_estimators=1000, \n",
    "    random_state=42)\n",
    "\n",
    "rfr.fit(X_train, y_train)\n",
    "\n",
    "y_pred = rfr.predict(X_test)"
   ]
  },
  {
   "cell_type": "code",
   "execution_count": 413,
   "metadata": {
    "scrolled": true
   },
   "outputs": [
    {
     "data": {
      "text/html": [
       "<div>\n",
       "<style scoped>\n",
       "    .dataframe tbody tr th:only-of-type {\n",
       "        vertical-align: middle;\n",
       "    }\n",
       "\n",
       "    .dataframe tbody tr th {\n",
       "        vertical-align: top;\n",
       "    }\n",
       "\n",
       "    .dataframe thead th {\n",
       "        text-align: right;\n",
       "    }\n",
       "</style>\n",
       "<table border=\"1\" class=\"dataframe\">\n",
       "  <thead>\n",
       "    <tr style=\"text-align: right;\">\n",
       "      <th></th>\n",
       "      <th>y_test</th>\n",
       "      <th>y_pred</th>\n",
       "      <th>error</th>\n",
       "    </tr>\n",
       "  </thead>\n",
       "  <tbody>\n",
       "    <tr>\n",
       "      <td>4026</td>\n",
       "      <td>469497.535186</td>\n",
       "      <td>470265.223179</td>\n",
       "      <td>767.687992</td>\n",
       "    </tr>\n",
       "    <tr>\n",
       "      <td>5417</td>\n",
       "      <td>182453.436044</td>\n",
       "      <td>193466.025513</td>\n",
       "      <td>11012.589469</td>\n",
       "    </tr>\n",
       "    <tr>\n",
       "      <td>488</td>\n",
       "      <td>118939.006034</td>\n",
       "      <td>122652.192258</td>\n",
       "      <td>3713.186224</td>\n",
       "    </tr>\n",
       "    <tr>\n",
       "      <td>39</td>\n",
       "      <td>229778.057902</td>\n",
       "      <td>139900.682514</td>\n",
       "      <td>-89877.375387</td>\n",
       "    </tr>\n",
       "    <tr>\n",
       "      <td>6801</td>\n",
       "      <td>329629.767283</td>\n",
       "      <td>374695.503352</td>\n",
       "      <td>45065.736070</td>\n",
       "    </tr>\n",
       "  </tbody>\n",
       "</table>\n",
       "</div>"
      ],
      "text/plain": [
       "             y_test         y_pred         error\n",
       "4026  469497.535186  470265.223179    767.687992\n",
       "5417  182453.436044  193466.025513  11012.589469\n",
       "488   118939.006034  122652.192258   3713.186224\n",
       "39    229778.057902  139900.682514 -89877.375387\n",
       "6801  329629.767283  374695.503352  45065.736070"
      ]
     },
     "execution_count": 413,
     "metadata": {},
     "output_type": "execute_result"
    }
   ],
   "source": [
    "check_test_rfr = pd.DataFrame({\n",
    "    \"y_test\": y_test[\"Price\"],\n",
    "    \"y_pred\": y_pred.flatten()\n",
    "})\n",
    "\n",
    "check_test_rfr[\"error\"] = check_test_rfr[\"y_pred\"] - check_test_rfr[\"y_test\"]\n",
    "\n",
    "check_test_rfr.head()"
   ]
  },
  {
   "cell_type": "code",
   "execution_count": 414,
   "metadata": {
    "scrolled": true
   },
   "outputs": [
    {
     "data": {
      "text/plain": [
       "0.7554233040231675"
      ]
     },
     "execution_count": 414,
     "metadata": {},
     "output_type": "execute_result"
    }
   ],
   "source": [
    "r2_score(check_test_rfr[\"y_test\"], check_test_rfr[\"y_pred\"]) "
   ]
  },
  {
   "cell_type": "markdown",
   "metadata": {},
   "source": [
    "#### Процесс кластеризации"
   ]
  },
  {
   "cell_type": "code",
   "execution_count": 95,
   "metadata": {},
   "outputs": [
    {
     "data": {
      "text/html": [
       "<div>\n",
       "<style scoped>\n",
       "    .dataframe tbody tr th:only-of-type {\n",
       "        vertical-align: middle;\n",
       "    }\n",
       "\n",
       "    .dataframe tbody tr th {\n",
       "        vertical-align: top;\n",
       "    }\n",
       "\n",
       "    .dataframe thead th {\n",
       "        text-align: right;\n",
       "    }\n",
       "</style>\n",
       "<table border=\"1\" class=\"dataframe\">\n",
       "  <thead>\n",
       "    <tr style=\"text-align: right;\">\n",
       "      <th></th>\n",
       "      <th>Id</th>\n",
       "      <th>DistrictId</th>\n",
       "      <th>Rooms</th>\n",
       "      <th>Square</th>\n",
       "      <th>LifeSquare</th>\n",
       "      <th>KitchenSquare</th>\n",
       "      <th>Floor</th>\n",
       "      <th>HouseFloor</th>\n",
       "      <th>HouseYear</th>\n",
       "      <th>Ecology_1</th>\n",
       "      <th>Social_1</th>\n",
       "      <th>Social_2</th>\n",
       "      <th>Social_3</th>\n",
       "      <th>Healthcare_1</th>\n",
       "      <th>Healthcare_2</th>\n",
       "      <th>Shops_1</th>\n",
       "      <th>Ecology_2A</th>\n",
       "      <th>Ecology_3A</th>\n",
       "      <th>Shops_2A</th>\n",
       "    </tr>\n",
       "  </thead>\n",
       "  <tbody>\n",
       "  </tbody>\n",
       "</table>\n",
       "</div>"
      ],
      "text/plain": [
       "Empty DataFrame\n",
       "Columns: [Id, DistrictId, Rooms, Square, LifeSquare, KitchenSquare, Floor, HouseFloor, HouseYear, Ecology_1, Social_1, Social_2, Social_3, Healthcare_1, Healthcare_2, Shops_1, Ecology_2A, Ecology_3A, Shops_2A]\n",
       "Index: []"
      ]
     },
     "execution_count": 95,
     "metadata": {},
     "output_type": "execute_result"
    }
   ],
   "source": [
    "df.reset_index()\n",
    "\n",
    "df_features = df.copy()\n",
    "df_features.drop({'Price'}, axis=1, inplace=True)\n",
    "\n",
    "df_price = df.copy()\n",
    "df_price = df_price[['Price']]\n",
    "\n",
    "df_features.loc[(df_features.Id.isnull() == True)]"
   ]
  },
  {
   "cell_type": "code",
   "execution_count": 96,
   "metadata": {},
   "outputs": [
    {
     "data": {
      "image/png": "[encoded data removed]",
      "text/plain": [
       "<Figure size 720x576 with 1 Axes>"
      ]
     },
     "metadata": {
      "needs_background": "light"
     },
     "output_type": "display_data"
    }
   ],
   "source": [
    "apply_elbow_method(df_features)"
   ]
  },
  {
   "cell_type": "code",
   "execution_count": 97,
   "metadata": {},
   "outputs": [
    {
     "data": {
      "image/png": "[encoded data removed]",
      "text/plain": [
       "<Figure size 576x360 with 1 Axes>"
      ]
     },
     "metadata": {
      "needs_background": "light"
     },
     "output_type": "display_data"
    }
   ],
   "source": [
    "kmeans = KMeans(n_clusters=6, max_iter=100, random_state=42)\n",
    "\n",
    "labels_train_6 = kmeans.fit_predict(df_features)\n",
    "labels_train_6 = pd.Series(labels_train_6, name='clusters_6')\n",
    "\n",
    "unique, counts = np.unique(labels_train_6, return_counts=True)\n",
    "display_clusters_distribution(unique, counts)"
   ]
  },
  {
   "cell_type": "code",
   "execution_count": 98,
   "metadata": {},
   "outputs": [
    {
     "data": {
      "image/png": "[encoded data removed]",
      "text/plain": [
       "<Figure size 576x360 with 1 Axes>"
      ]
     },
     "metadata": {
      "needs_background": "light"
     },
     "output_type": "display_data"
    }
   ],
   "source": [
    "kmeans = KMeans(n_clusters=8, max_iter=100, random_state=42)\n",
    "\n",
    "labels_train_8 = kmeans.fit_predict(df_features)\n",
    "labels_train_8 = pd.Series(labels_train_8, name='clusters_8')\n",
    "\n",
    "unique, counts = np.unique(labels_train_8, return_counts=True)\n",
    "display_clusters_distribution(unique, counts)"
   ]
  },
  {
   "cell_type": "code",
   "execution_count": 101,
   "metadata": {},
   "outputs": [],
   "source": [
    "components_3d = reduce_dims_to_3D_space_with_PCA(df_features)"
   ]
  },
  {
   "cell_type": "code",
   "execution_count": 103,
   "metadata": {},
   "outputs": [],
   "source": [
    "clusters_6_dummies = pd.get_dummies(labels_train_6, drop_first=True, prefix='clusters_6')\n",
    "clusters_8_dummies = pd.get_dummies(labels_train_8, drop_first=True, prefix='clusters_8')\n",
    "\n",
    "df_ext = pd.concat([df_features, components_3d, clusters_6_dummies, clusters_8_dummies, df_price], axis=1)\n",
    "\n",
    "pd.options.display.max_columns=200"
   ]
  },
  {
   "cell_type": "code",
   "execution_count": 161,
   "metadata": {},
   "outputs": [
    {
     "data": {
      "text/html": [
       "<div>\n",
       "<style scoped>\n",
       "    .dataframe tbody tr th:only-of-type {\n",
       "        vertical-align: middle;\n",
       "    }\n",
       "\n",
       "    .dataframe tbody tr th {\n",
       "        vertical-align: top;\n",
       "    }\n",
       "\n",
       "    .dataframe thead th {\n",
       "        text-align: right;\n",
       "    }\n",
       "</style>\n",
       "<table border=\"1\" class=\"dataframe\">\n",
       "  <thead>\n",
       "    <tr style=\"text-align: right;\">\n",
       "      <th></th>\n",
       "      <th>Id</th>\n",
       "      <th>DistrictId</th>\n",
       "      <th>Rooms</th>\n",
       "      <th>Square</th>\n",
       "      <th>LifeSquare</th>\n",
       "      <th>KitchenSquare</th>\n",
       "      <th>Floor</th>\n",
       "      <th>HouseFloor</th>\n",
       "      <th>HouseYear</th>\n",
       "      <th>Ecology_1</th>\n",
       "      <th>Social_1</th>\n",
       "      <th>Social_2</th>\n",
       "      <th>Social_3</th>\n",
       "      <th>Healthcare_1</th>\n",
       "      <th>Healthcare_2</th>\n",
       "      <th>Shops_1</th>\n",
       "      <th>Ecology_2A</th>\n",
       "      <th>Ecology_3A</th>\n",
       "      <th>Shops_2A</th>\n",
       "      <th>component_1</th>\n",
       "      <th>component_2</th>\n",
       "      <th>component_3</th>\n",
       "      <th>clusters_6_1</th>\n",
       "      <th>clusters_6_2</th>\n",
       "      <th>clusters_6_3</th>\n",
       "      <th>clusters_6_4</th>\n",
       "      <th>clusters_6_5</th>\n",
       "      <th>clusters_8_1</th>\n",
       "      <th>clusters_8_2</th>\n",
       "      <th>clusters_8_3</th>\n",
       "      <th>clusters_8_4</th>\n",
       "      <th>clusters_8_5</th>\n",
       "      <th>clusters_8_6</th>\n",
       "      <th>clusters_8_7</th>\n",
       "      <th>Price</th>\n",
       "    </tr>\n",
       "  </thead>\n",
       "  <tbody>\n",
       "  </tbody>\n",
       "</table>\n",
       "</div>"
      ],
      "text/plain": [
       "Empty DataFrame\n",
       "Columns: [Id, DistrictId, Rooms, Square, LifeSquare, KitchenSquare, Floor, HouseFloor, HouseYear, Ecology_1, Social_1, Social_2, Social_3, Healthcare_1, Healthcare_2, Shops_1, Ecology_2A, Ecology_3A, Shops_2A, component_1, component_2, component_3, clusters_6_1, clusters_6_2, clusters_6_3, clusters_6_4, clusters_6_5, clusters_8_1, clusters_8_2, clusters_8_3, clusters_8_4, clusters_8_5, clusters_8_6, clusters_8_7, Price]\n",
       "Index: []"
      ]
     },
     "execution_count": 161,
     "metadata": {},
     "output_type": "execute_result"
    }
   ],
   "source": [
    "df_ext.loc[(df_ext.component_1.isnull() == True)]"
   ]
  },
  {
   "cell_type": "code",
   "execution_count": 159,
   "metadata": {},
   "outputs": [
    {
     "data": {
      "text/html": [
       "<div>\n",
       "<style scoped>\n",
       "    .dataframe tbody tr th:only-of-type {\n",
       "        vertical-align: middle;\n",
       "    }\n",
       "\n",
       "    .dataframe tbody tr th {\n",
       "        vertical-align: top;\n",
       "    }\n",
       "\n",
       "    .dataframe thead th {\n",
       "        text-align: right;\n",
       "    }\n",
       "</style>\n",
       "<table border=\"1\" class=\"dataframe\">\n",
       "  <thead>\n",
       "    <tr style=\"text-align: right;\">\n",
       "      <th></th>\n",
       "      <th>Id</th>\n",
       "      <th>DistrictId</th>\n",
       "      <th>Rooms</th>\n",
       "      <th>Square</th>\n",
       "      <th>LifeSquare</th>\n",
       "      <th>KitchenSquare</th>\n",
       "      <th>Floor</th>\n",
       "      <th>HouseFloor</th>\n",
       "      <th>HouseYear</th>\n",
       "      <th>Ecology_1</th>\n",
       "      <th>Social_1</th>\n",
       "      <th>Social_2</th>\n",
       "      <th>Social_3</th>\n",
       "      <th>Healthcare_1</th>\n",
       "      <th>Healthcare_2</th>\n",
       "      <th>Shops_1</th>\n",
       "      <th>Ecology_2A</th>\n",
       "      <th>Ecology_3A</th>\n",
       "      <th>Shops_2A</th>\n",
       "      <th>component_1</th>\n",
       "      <th>component_2</th>\n",
       "      <th>component_3</th>\n",
       "      <th>clusters_6_1</th>\n",
       "      <th>clusters_6_2</th>\n",
       "      <th>clusters_6_3</th>\n",
       "      <th>clusters_6_4</th>\n",
       "      <th>clusters_6_5</th>\n",
       "      <th>clusters_8_1</th>\n",
       "      <th>clusters_8_2</th>\n",
       "      <th>clusters_8_3</th>\n",
       "      <th>clusters_8_4</th>\n",
       "      <th>clusters_8_5</th>\n",
       "      <th>clusters_8_6</th>\n",
       "      <th>clusters_8_7</th>\n",
       "      <th>Price</th>\n",
       "    </tr>\n",
       "  </thead>\n",
       "  <tbody>\n",
       "  </tbody>\n",
       "</table>\n",
       "</div>"
      ],
      "text/plain": [
       "Empty DataFrame\n",
       "Columns: [Id, DistrictId, Rooms, Square, LifeSquare, KitchenSquare, Floor, HouseFloor, HouseYear, Ecology_1, Social_1, Social_2, Social_3, Healthcare_1, Healthcare_2, Shops_1, Ecology_2A, Ecology_3A, Shops_2A, component_1, component_2, component_3, clusters_6_1, clusters_6_2, clusters_6_3, clusters_6_4, clusters_6_5, clusters_8_1, clusters_8_2, clusters_8_3, clusters_8_4, clusters_8_5, clusters_8_6, clusters_8_7, Price]\n",
       "Index: []"
      ]
     },
     "execution_count": 159,
     "metadata": {},
     "output_type": "execute_result"
    }
   ],
   "source": [
    "df_ext.loc[(df_ext.Id.isnull() == True)]"
   ]
  },
  {
   "cell_type": "code",
   "execution_count": 160,
   "metadata": {},
   "outputs": [],
   "source": [
    "df_ext.dropna(subset=['Id'], inplace=True)\n",
    "df_ext.dropna(subset=['component_1'], inplace=True)"
   ]
  },
  {
   "cell_type": "code",
   "execution_count": 164,
   "metadata": {},
   "outputs": [
    {
     "name": "stdout",
     "output_type": "stream",
     "text": [
      "<class 'pandas.core.frame.DataFrame'>\n",
      "Int64Index: 9980 entries, 0 to 9989\n",
      "Data columns (total 35 columns):\n",
      "Id               9980 non-null float64\n",
      "DistrictId       9980 non-null float64\n",
      "Rooms            9980 non-null float64\n",
      "Square           9980 non-null float64\n",
      "LifeSquare       9980 non-null float64\n",
      "KitchenSquare    9980 non-null float64\n",
      "Floor            9980 non-null float64\n",
      "HouseFloor       9980 non-null float64\n",
      "HouseYear        9980 non-null float64\n",
      "Ecology_1        9980 non-null float64\n",
      "Social_1         9980 non-null float64\n",
      "Social_2         9980 non-null float64\n",
      "Social_3         9980 non-null float64\n",
      "Healthcare_1     9980 non-null float64\n",
      "Healthcare_2     9980 non-null float64\n",
      "Shops_1          9980 non-null float64\n",
      "Ecology_2A       9980 non-null float64\n",
      "Ecology_3A       9980 non-null float64\n",
      "Shops_2A         9980 non-null float64\n",
      "component_1      9980 non-null float64\n",
      "component_2      9980 non-null float64\n",
      "component_3      9980 non-null float64\n",
      "clusters_6_1     9980 non-null float64\n",
      "clusters_6_2     9980 non-null float64\n",
      "clusters_6_3     9980 non-null float64\n",
      "clusters_6_4     9980 non-null float64\n",
      "clusters_6_5     9980 non-null float64\n",
      "clusters_8_1     9980 non-null float64\n",
      "clusters_8_2     9980 non-null float64\n",
      "clusters_8_3     9980 non-null float64\n",
      "clusters_8_4     9980 non-null float64\n",
      "clusters_8_5     9980 non-null float64\n",
      "clusters_8_6     9980 non-null float64\n",
      "clusters_8_7     9980 non-null float64\n",
      "Price            9980 non-null float64\n",
      "dtypes: float64(35)\n",
      "memory usage: 2.7 MB\n"
     ]
    }
   ],
   "source": [
    "df_ext.reset_index()\n",
    "\n",
    "df_ext.info()"
   ]
  },
  {
   "cell_type": "code",
   "execution_count": 165,
   "metadata": {},
   "outputs": [
    {
     "name": "stdout",
     "output_type": "stream",
     "text": [
      "<class 'pandas.core.frame.DataFrame'>\n",
      "RangeIndex: 9990 entries, 0 to 9989\n",
      "Data columns (total 3 columns):\n",
      "component_1    9990 non-null float64\n",
      "component_2    9990 non-null float64\n",
      "component_3    9990 non-null float64\n",
      "dtypes: float64(3)\n",
      "memory usage: 234.3 KB\n"
     ]
    }
   ],
   "source": [
    "components_3d.info()"
   ]
  },
  {
   "cell_type": "code",
   "execution_count": 166,
   "metadata": {},
   "outputs": [
    {
     "name": "stdout",
     "output_type": "stream",
     "text": [
      "<class 'pandas.core.frame.DataFrame'>\n",
      "RangeIndex: 9990 entries, 0 to 9989\n",
      "Data columns (total 7 columns):\n",
      "clusters_8_1    9990 non-null uint8\n",
      "clusters_8_2    9990 non-null uint8\n",
      "clusters_8_3    9990 non-null uint8\n",
      "clusters_8_4    9990 non-null uint8\n",
      "clusters_8_5    9990 non-null uint8\n",
      "clusters_8_6    9990 non-null uint8\n",
      "clusters_8_7    9990 non-null uint8\n",
      "dtypes: uint8(7)\n",
      "memory usage: 68.4 KB\n"
     ]
    }
   ],
   "source": [
    "clusters_8_dummies.info()"
   ]
  },
  {
   "cell_type": "code",
   "execution_count": 106,
   "metadata": {},
   "outputs": [
    {
     "name": "stdout",
     "output_type": "stream",
     "text": [
      "<class 'pandas.core.frame.DataFrame'>\n",
      "RangeIndex: 9990 entries, 0 to 9989\n",
      "Data columns (total 5 columns):\n",
      "clusters_6_1    9990 non-null uint8\n",
      "clusters_6_2    9990 non-null uint8\n",
      "clusters_6_3    9990 non-null uint8\n",
      "clusters_6_4    9990 non-null uint8\n",
      "clusters_6_5    9990 non-null uint8\n",
      "dtypes: uint8(5)\n",
      "memory usage: 48.9 KB\n"
     ]
    }
   ],
   "source": [
    "clusters_6_dummies.info()"
   ]
  },
  {
   "cell_type": "code",
   "execution_count": 108,
   "metadata": {},
   "outputs": [],
   "source": [
    "df_ext.to_pickle(\"./test_ext.pkl\")"
   ]
  },
  {
   "cell_type": "code",
   "execution_count": 109,
   "metadata": {},
   "outputs": [],
   "source": [
    "df_ext = pd.read_pickle(\"./test_ext.pkl\")"
   ]
  },
  {
   "cell_type": "code",
   "execution_count": 110,
   "metadata": {},
   "outputs": [
    {
     "data": {
      "text/html": [
       "<div>\n",
       "<style scoped>\n",
       "    .dataframe tbody tr th:only-of-type {\n",
       "        vertical-align: middle;\n",
       "    }\n",
       "\n",
       "    .dataframe tbody tr th {\n",
       "        vertical-align: top;\n",
       "    }\n",
       "\n",
       "    .dataframe thead th {\n",
       "        text-align: right;\n",
       "    }\n",
       "</style>\n",
       "<table border=\"1\" class=\"dataframe\">\n",
       "  <thead>\n",
       "    <tr style=\"text-align: right;\">\n",
       "      <th></th>\n",
       "      <th>Id</th>\n",
       "      <th>DistrictId</th>\n",
       "      <th>Rooms</th>\n",
       "      <th>Square</th>\n",
       "      <th>LifeSquare</th>\n",
       "      <th>KitchenSquare</th>\n",
       "      <th>Floor</th>\n",
       "      <th>HouseFloor</th>\n",
       "      <th>HouseYear</th>\n",
       "      <th>Ecology_1</th>\n",
       "      <th>Social_1</th>\n",
       "      <th>Social_2</th>\n",
       "      <th>Social_3</th>\n",
       "      <th>Healthcare_1</th>\n",
       "      <th>Healthcare_2</th>\n",
       "      <th>Shops_1</th>\n",
       "      <th>Ecology_2A</th>\n",
       "      <th>Ecology_3A</th>\n",
       "      <th>Shops_2A</th>\n",
       "      <th>component_1</th>\n",
       "      <th>component_2</th>\n",
       "      <th>component_3</th>\n",
       "      <th>clusters_6_1</th>\n",
       "      <th>clusters_6_2</th>\n",
       "      <th>clusters_6_3</th>\n",
       "      <th>clusters_6_4</th>\n",
       "      <th>clusters_6_5</th>\n",
       "      <th>clusters_8_1</th>\n",
       "      <th>clusters_8_2</th>\n",
       "      <th>clusters_8_3</th>\n",
       "      <th>clusters_8_4</th>\n",
       "      <th>clusters_8_5</th>\n",
       "      <th>clusters_8_6</th>\n",
       "      <th>clusters_8_7</th>\n",
       "      <th>Price</th>\n",
       "    </tr>\n",
       "  </thead>\n",
       "  <tbody>\n",
       "  </tbody>\n",
       "</table>\n",
       "</div>"
      ],
      "text/plain": [
       "Empty DataFrame\n",
       "Columns: [Id, DistrictId, Rooms, Square, LifeSquare, KitchenSquare, Floor, HouseFloor, HouseYear, Ecology_1, Social_1, Social_2, Social_3, Healthcare_1, Healthcare_2, Shops_1, Ecology_2A, Ecology_3A, Shops_2A, component_1, component_2, component_3, clusters_6_1, clusters_6_2, clusters_6_3, clusters_6_4, clusters_6_5, clusters_8_1, clusters_8_2, clusters_8_3, clusters_8_4, clusters_8_5, clusters_8_6, clusters_8_7, Price]\n",
       "Index: []"
      ]
     },
     "execution_count": 110,
     "metadata": {},
     "output_type": "execute_result"
    }
   ],
   "source": [
    "df_ext.loc[(df_ext.Id.isnull())]"
   ]
  },
  {
   "cell_type": "code",
   "execution_count": 147,
   "metadata": {},
   "outputs": [],
   "source": [
    "X = df_ext.iloc[:, :-1]\n",
    "y = df_ext[['Price']]"
   ]
  },
  {
   "cell_type": "code",
   "execution_count": 148,
   "metadata": {},
   "outputs": [],
   "source": [
    "X_train, X_test, y_train, y_test = train_test_split(X, y, test_size=0.3, random_state=42)"
   ]
  },
  {
   "cell_type": "code",
   "execution_count": 149,
   "metadata": {},
   "outputs": [
    {
     "name": "stdout",
     "output_type": "stream",
     "text": [
      "<class 'pandas.core.frame.DataFrame'>\n",
      "Int64Index: 9980 entries, 0 to 9989\n",
      "Data columns (total 34 columns):\n",
      "Id               9980 non-null float64\n",
      "DistrictId       9980 non-null float64\n",
      "Rooms            9980 non-null float64\n",
      "Square           9980 non-null float64\n",
      "LifeSquare       9980 non-null float64\n",
      "KitchenSquare    9980 non-null float64\n",
      "Floor            9980 non-null float64\n",
      "HouseFloor       9980 non-null float64\n",
      "HouseYear        9980 non-null float64\n",
      "Ecology_1        9980 non-null float64\n",
      "Social_1         9980 non-null float64\n",
      "Social_2         9980 non-null float64\n",
      "Social_3         9980 non-null float64\n",
      "Healthcare_1     9980 non-null float64\n",
      "Healthcare_2     9980 non-null float64\n",
      "Shops_1          9980 non-null float64\n",
      "Ecology_2A       9980 non-null float64\n",
      "Ecology_3A       9980 non-null float64\n",
      "Shops_2A         9980 non-null float64\n",
      "component_1      9980 non-null float64\n",
      "component_2      9980 non-null float64\n",
      "component_3      9980 non-null float64\n",
      "clusters_6_1     9980 non-null float64\n",
      "clusters_6_2     9980 non-null float64\n",
      "clusters_6_3     9980 non-null float64\n",
      "clusters_6_4     9980 non-null float64\n",
      "clusters_6_5     9980 non-null float64\n",
      "clusters_8_1     9980 non-null float64\n",
      "clusters_8_2     9980 non-null float64\n",
      "clusters_8_3     9980 non-null float64\n",
      "clusters_8_4     9980 non-null float64\n",
      "clusters_8_5     9980 non-null float64\n",
      "clusters_8_6     9980 non-null float64\n",
      "clusters_8_7     9980 non-null float64\n",
      "dtypes: float64(34)\n",
      "memory usage: 2.7 MB\n"
     ]
    }
   ],
   "source": [
    "X.info()"
   ]
  },
  {
   "cell_type": "code",
   "execution_count": 150,
   "metadata": {},
   "outputs": [],
   "source": [
    "rfr = RandomForestRegressor()"
   ]
  },
  {
   "cell_type": "markdown",
   "metadata": {},
   "source": [
    "Попробуем натянуть сетку"
   ]
  },
  {
   "cell_type": "code",
   "execution_count": 151,
   "metadata": {},
   "outputs": [],
   "source": [
    "param_grid = {\n",
    "    'bootstrap': [True],\n",
    "    'max_depth': [50, 100],\n",
    "    'max_features': [1, 2],\n",
    "    'min_samples_leaf': [1, 2],\n",
    "    'min_samples_split': [2, 4],\n",
    "    'n_estimators': [1000]\n",
    "}\n",
    "\n",
    "grid_search = GridSearchCV(estimator = rfr, \n",
    "                           param_grid = param_grid, \n",
    "                           cv = 3\n",
    "                          )"
   ]
  },
  {
   "cell_type": "code",
   "execution_count": 152,
   "metadata": {},
   "outputs": [],
   "source": [
    "from sklearn import preprocessing\n",
    "from sklearn import utils"
   ]
  },
  {
   "cell_type": "code",
   "execution_count": 153,
   "metadata": {},
   "outputs": [],
   "source": [
    "lab_enc = preprocessing.LabelEncoder()\n",
    "y_train_encoded = lab_enc.fit_transform(y_train)"
   ]
  },
  {
   "cell_type": "code",
   "execution_count": 128,
   "metadata": {
    "scrolled": true
   },
   "outputs": [
    {
     "name": "stdout",
     "output_type": "stream",
     "text": [
      "Wall time: 5min 26s\n"
     ]
    },
    {
     "data": {
      "text/plain": [
       "GridSearchCV(cv=3, error_score='raise-deprecating',\n",
       "             estimator=RandomForestRegressor(bootstrap=True, criterion='mse',\n",
       "                                             max_depth=None,\n",
       "                                             max_features='auto',\n",
       "                                             max_leaf_nodes=None,\n",
       "                                             min_impurity_decrease=0.0,\n",
       "                                             min_impurity_split=None,\n",
       "                                             min_samples_leaf=1,\n",
       "                                             min_samples_split=2,\n",
       "                                             min_weight_fraction_leaf=0.0,\n",
       "                                             n_estimators='warn', n_jobs=None,\n",
       "                                             oob_score=False, random_state=None,\n",
       "                                             verbose=0, warm_start=False),\n",
       "             iid='warn', n_jobs=None,\n",
       "             param_grid={'bootstrap': [True], 'max_depth': [50, 100],\n",
       "                         'max_features': [1, 2], 'min_samples_leaf': [1, 2],\n",
       "                         'min_samples_split': [2, 4], 'n_estimators': [1000]},\n",
       "             pre_dispatch='2*n_jobs', refit=True, return_train_score=False,\n",
       "             scoring=None, verbose=0)"
      ]
     },
     "execution_count": 128,
     "metadata": {},
     "output_type": "execute_result"
    }
   ],
   "source": [
    "%%time\n",
    "\n",
    "grid_search.fit(X_train, y_train_encoded)"
   ]
  },
  {
   "cell_type": "code",
   "execution_count": 129,
   "metadata": {},
   "outputs": [
    {
     "name": "stdout",
     "output_type": "stream",
     "text": [
      "{'bootstrap': True, 'max_depth': 100, 'max_features': 2, 'min_samples_leaf': 1, 'min_samples_split': 2, 'n_estimators': 1000}\n"
     ]
    }
   ],
   "source": [
    "print(grid_search.best_params_)"
   ]
  },
  {
   "cell_type": "code",
   "execution_count": 154,
   "metadata": {},
   "outputs": [],
   "source": [
    "rfr = RandomForestRegressor(\n",
    "    bootstrap=True, \n",
    "    max_depth=100, \n",
    "    max_features=3, \n",
    "    min_samples_leaf=1,\n",
    "    min_samples_split=4,\n",
    "    n_estimators=1000, \n",
    "    random_state=42)\n",
    "\n",
    "rfr.fit(X_train, y_train)\n",
    "\n",
    "y_pred = rfr.predict(X_test)"
   ]
  },
  {
   "cell_type": "code",
   "execution_count": 155,
   "metadata": {
    "scrolled": true
   },
   "outputs": [
    {
     "data": {
      "text/html": [
       "<div>\n",
       "<style scoped>\n",
       "    .dataframe tbody tr th:only-of-type {\n",
       "        vertical-align: middle;\n",
       "    }\n",
       "\n",
       "    .dataframe tbody tr th {\n",
       "        vertical-align: top;\n",
       "    }\n",
       "\n",
       "    .dataframe thead th {\n",
       "        text-align: right;\n",
       "    }\n",
       "</style>\n",
       "<table border=\"1\" class=\"dataframe\">\n",
       "  <thead>\n",
       "    <tr style=\"text-align: right;\">\n",
       "      <th></th>\n",
       "      <th>y_test</th>\n",
       "      <th>y_pred</th>\n",
       "      <th>error</th>\n",
       "    </tr>\n",
       "  </thead>\n",
       "  <tbody>\n",
       "    <tr>\n",
       "      <td>1254</td>\n",
       "      <td>328017.739044</td>\n",
       "      <td>293950.095482</td>\n",
       "      <td>-34067.643563</td>\n",
       "    </tr>\n",
       "    <tr>\n",
       "      <td>8231</td>\n",
       "      <td>108952.090037</td>\n",
       "      <td>135356.196394</td>\n",
       "      <td>26404.106358</td>\n",
       "    </tr>\n",
       "    <tr>\n",
       "      <td>1660</td>\n",
       "      <td>92855.410323</td>\n",
       "      <td>84767.982913</td>\n",
       "      <td>-8087.427410</td>\n",
       "    </tr>\n",
       "    <tr>\n",
       "      <td>7739</td>\n",
       "      <td>240411.027528</td>\n",
       "      <td>222944.737489</td>\n",
       "      <td>-17466.290039</td>\n",
       "    </tr>\n",
       "    <tr>\n",
       "      <td>1442</td>\n",
       "      <td>139281.271068</td>\n",
       "      <td>149746.227817</td>\n",
       "      <td>10464.956749</td>\n",
       "    </tr>\n",
       "  </tbody>\n",
       "</table>\n",
       "</div>"
      ],
      "text/plain": [
       "             y_test         y_pred         error\n",
       "1254  328017.739044  293950.095482 -34067.643563\n",
       "8231  108952.090037  135356.196394  26404.106358\n",
       "1660   92855.410323   84767.982913  -8087.427410\n",
       "7739  240411.027528  222944.737489 -17466.290039\n",
       "1442  139281.271068  149746.227817  10464.956749"
      ]
     },
     "execution_count": 155,
     "metadata": {},
     "output_type": "execute_result"
    }
   ],
   "source": [
    "check_test_rfr = pd.DataFrame({\n",
    "    \"y_test\": y_test[\"Price\"],\n",
    "    \"y_pred\": y_pred.flatten()\n",
    "})\n",
    "\n",
    "check_test_rfr[\"error\"] = check_test_rfr[\"y_pred\"] - check_test_rfr[\"y_test\"]\n",
    "\n",
    "check_test_rfr.head()"
   ]
  },
  {
   "cell_type": "code",
   "execution_count": 156,
   "metadata": {
    "scrolled": true
   },
   "outputs": [
    {
     "data": {
      "text/plain": [
       "0.7216857232617859"
      ]
     },
     "execution_count": 156,
     "metadata": {},
     "output_type": "execute_result"
    }
   ],
   "source": [
    "r2_score(check_test_rfr[\"y_test\"], check_test_rfr[\"y_pred\"]) "
   ]
  },
  {
   "cell_type": "code",
   "execution_count": 114,
   "metadata": {},
   "outputs": [
    {
     "data": {
      "text/plain": [
       "GradientBoostingRegressor(alpha=0.9, criterion='friedman_mse', init=None,\n",
       "                          learning_rate=0.1, loss='ls', max_depth=7,\n",
       "                          max_features=None, max_leaf_nodes=None,\n",
       "                          min_impurity_decrease=0.0, min_impurity_split=None,\n",
       "                          min_samples_leaf=1, min_samples_split=2,\n",
       "                          min_weight_fraction_leaf=0.0, n_estimators=400,\n",
       "                          n_iter_no_change=None, presort='auto',\n",
       "                          random_state=21, subsample=1.0, tol=0.0001,\n",
       "                          validation_fraction=0.1, verbose=0, warm_start=False)"
      ]
     },
     "execution_count": 114,
     "metadata": {},
     "output_type": "execute_result"
    }
   ],
   "source": [
    "final_model = GradientBoostingRegressor(n_estimators=400, max_depth=7, random_state=21)\n",
    "final_model.fit(X_train, y_train)"
   ]
  },
  {
   "cell_type": "code",
   "execution_count": 121,
   "metadata": {},
   "outputs": [
    {
     "name": "stdout",
     "output_type": "stream",
     "text": [
      "R2:\t0.992\n",
      "MAE:\t6188.98\n",
      "MSE:\t70584688.42\n"
     ]
    },
    {
     "data": {
      "image/png": "[encoded data removed]",
      "text/plain": [
       "<Figure size 720x720 with 1 Axes>"
      ]
     },
     "metadata": {
      "needs_background": "light"
     },
     "output_type": "display_data"
    }
   ],
   "source": [
    "y_train_preds = final_model.predict(X_train)\n",
    "evaluate_preds(y_train, y_train_preds)"
   ]
  },
  {
   "cell_type": "code",
   "execution_count": 122,
   "metadata": {},
   "outputs": [
    {
     "name": "stdout",
     "output_type": "stream",
     "text": [
      "R2:\t0.738\n",
      "MAE:\t28864.411\n",
      "MSE:\t2305767157.872\n"
     ]
    },
    {
     "data": {
      "image/png": "[encoded data removed]",
      "text/plain": [
       "<Figure size 720x720 with 1 Axes>"
      ]
     },
     "metadata": {
      "needs_background": "light"
     },
     "output_type": "display_data"
    }
   ],
   "source": [
    "y_test_preds = final_model.predict(X_test)\n",
    "evaluate_preds(y_test, y_test_preds)"
   ]
  },
  {
   "cell_type": "code",
   "execution_count": 16,
   "metadata": {},
   "outputs": [
    {
     "data": {
      "text/html": [
       "<div>\n",
       "<style scoped>\n",
       "    .dataframe tbody tr th:only-of-type {\n",
       "        vertical-align: middle;\n",
       "    }\n",
       "\n",
       "    .dataframe tbody tr th {\n",
       "        vertical-align: top;\n",
       "    }\n",
       "\n",
       "    .dataframe thead th {\n",
       "        text-align: right;\n",
       "    }\n",
       "</style>\n",
       "<table border=\"1\" class=\"dataframe\">\n",
       "  <thead>\n",
       "    <tr style=\"text-align: right;\">\n",
       "      <th></th>\n",
       "      <th>Id</th>\n",
       "      <th>DistrictId</th>\n",
       "      <th>Rooms</th>\n",
       "      <th>Square</th>\n",
       "      <th>LifeSquare</th>\n",
       "      <th>KitchenSquare</th>\n",
       "      <th>Floor</th>\n",
       "      <th>HouseFloor</th>\n",
       "      <th>HouseYear</th>\n",
       "      <th>Ecology_1</th>\n",
       "      <th>Social_1</th>\n",
       "      <th>Social_2</th>\n",
       "      <th>Social_3</th>\n",
       "      <th>Healthcare_1</th>\n",
       "      <th>Healthcare_2</th>\n",
       "      <th>Shops_1</th>\n",
       "      <th>Price</th>\n",
       "      <th>Ecology_2A</th>\n",
       "      <th>Ecology_3A</th>\n",
       "      <th>component_1</th>\n",
       "      <th>component_2</th>\n",
       "      <th>component_3</th>\n",
       "      <th>clusters_5_1</th>\n",
       "      <th>clusters_5_2</th>\n",
       "      <th>clusters_5_3</th>\n",
       "      <th>clusters_5_4</th>\n",
       "    </tr>\n",
       "  </thead>\n",
       "  <tbody>\n",
       "    <tr>\n",
       "      <td>count</td>\n",
       "      <td>6693.000000</td>\n",
       "      <td>6693.00000</td>\n",
       "      <td>6693.000000</td>\n",
       "      <td>6693.000000</td>\n",
       "      <td>6693.000000</td>\n",
       "      <td>6693.000000</td>\n",
       "      <td>6693.000000</td>\n",
       "      <td>6693.000000</td>\n",
       "      <td>6693.000000</td>\n",
       "      <td>6693.000000</td>\n",
       "      <td>6693.000000</td>\n",
       "      <td>6693.000000</td>\n",
       "      <td>6693.000000</td>\n",
       "      <td>6693.000000</td>\n",
       "      <td>6693.000000</td>\n",
       "      <td>6693.000000</td>\n",
       "      <td>6693.000000</td>\n",
       "      <td>6693.000000</td>\n",
       "      <td>6693.000000</td>\n",
       "      <td>6693.000000</td>\n",
       "      <td>6693.000000</td>\n",
       "      <td>6693.000000</td>\n",
       "      <td>4702.000000</td>\n",
       "      <td>4702.000000</td>\n",
       "      <td>4702.000000</td>\n",
       "      <td>4702.000000</td>\n",
       "    </tr>\n",
       "    <tr>\n",
       "      <td>mean</td>\n",
       "      <td>8422.656357</td>\n",
       "      <td>50.68355</td>\n",
       "      <td>1.883460</td>\n",
       "      <td>56.139137</td>\n",
       "      <td>35.926626</td>\n",
       "      <td>6.213058</td>\n",
       "      <td>8.488720</td>\n",
       "      <td>12.616614</td>\n",
       "      <td>1984.699686</td>\n",
       "      <td>0.118725</td>\n",
       "      <td>24.676229</td>\n",
       "      <td>5334.218587</td>\n",
       "      <td>7.959958</td>\n",
       "      <td>1030.435978</td>\n",
       "      <td>1.333632</td>\n",
       "      <td>4.222919</td>\n",
       "      <td>213799.579115</td>\n",
       "      <td>0.011206</td>\n",
       "      <td>0.027491</td>\n",
       "      <td>190.359945</td>\n",
       "      <td>13.184331</td>\n",
       "      <td>45.805381</td>\n",
       "      <td>0.311144</td>\n",
       "      <td>0.052956</td>\n",
       "      <td>0.298171</td>\n",
       "      <td>0.239898</td>\n",
       "    </tr>\n",
       "    <tr>\n",
       "      <td>std</td>\n",
       "      <td>4853.716050</td>\n",
       "      <td>43.37881</td>\n",
       "      <td>0.813725</td>\n",
       "      <td>20.402617</td>\n",
       "      <td>17.743032</td>\n",
       "      <td>4.591082</td>\n",
       "      <td>5.211349</td>\n",
       "      <td>6.596452</td>\n",
       "      <td>18.497453</td>\n",
       "      <td>0.119631</td>\n",
       "      <td>17.457143</td>\n",
       "      <td>3976.953704</td>\n",
       "      <td>23.729804</td>\n",
       "      <td>746.989418</td>\n",
       "      <td>1.511067</td>\n",
       "      <td>4.812960</td>\n",
       "      <td>92530.467344</td>\n",
       "      <td>0.105270</td>\n",
       "      <td>0.163523</td>\n",
       "      <td>92065.507427</td>\n",
       "      <td>4870.752138</td>\n",
       "      <td>3884.503025</td>\n",
       "      <td>0.463011</td>\n",
       "      <td>0.223970</td>\n",
       "      <td>0.457504</td>\n",
       "      <td>0.427066</td>\n",
       "    </tr>\n",
       "    <tr>\n",
       "      <td>min</td>\n",
       "      <td>0.000000</td>\n",
       "      <td>1.00000</td>\n",
       "      <td>0.000000</td>\n",
       "      <td>13.784865</td>\n",
       "      <td>10.523868</td>\n",
       "      <td>1.000000</td>\n",
       "      <td>1.000000</td>\n",
       "      <td>0.000000</td>\n",
       "      <td>1912.000000</td>\n",
       "      <td>0.000000</td>\n",
       "      <td>0.000000</td>\n",
       "      <td>168.000000</td>\n",
       "      <td>0.000000</td>\n",
       "      <td>30.000000</td>\n",
       "      <td>0.000000</td>\n",
       "      <td>0.000000</td>\n",
       "      <td>59174.778028</td>\n",
       "      <td>0.000000</td>\n",
       "      <td>0.000000</td>\n",
       "      <td>-154200.819767</td>\n",
       "      <td>-8479.750242</td>\n",
       "      <td>-7410.505510</td>\n",
       "      <td>0.000000</td>\n",
       "      <td>0.000000</td>\n",
       "      <td>0.000000</td>\n",
       "      <td>0.000000</td>\n",
       "    </tr>\n",
       "    <tr>\n",
       "      <td>25%</td>\n",
       "      <td>4241.000000</td>\n",
       "      <td>21.00000</td>\n",
       "      <td>1.000000</td>\n",
       "      <td>41.818261</td>\n",
       "      <td>26.927493</td>\n",
       "      <td>4.000000</td>\n",
       "      <td>4.000000</td>\n",
       "      <td>9.000000</td>\n",
       "      <td>1973.000000</td>\n",
       "      <td>0.017647</td>\n",
       "      <td>6.000000</td>\n",
       "      <td>1564.000000</td>\n",
       "      <td>0.000000</td>\n",
       "      <td>830.000000</td>\n",
       "      <td>0.000000</td>\n",
       "      <td>1.000000</td>\n",
       "      <td>153997.912192</td>\n",
       "      <td>0.000000</td>\n",
       "      <td>0.000000</td>\n",
       "      <td>-60175.812225</td>\n",
       "      <td>-4219.797228</td>\n",
       "      <td>-3201.358835</td>\n",
       "      <td>0.000000</td>\n",
       "      <td>0.000000</td>\n",
       "      <td>0.000000</td>\n",
       "      <td>0.000000</td>\n",
       "    </tr>\n",
       "    <tr>\n",
       "      <td>50%</td>\n",
       "      <td>8427.000000</td>\n",
       "      <td>36.00000</td>\n",
       "      <td>2.000000</td>\n",
       "      <td>52.133425</td>\n",
       "      <td>32.784434</td>\n",
       "      <td>6.000000</td>\n",
       "      <td>7.000000</td>\n",
       "      <td>13.000000</td>\n",
       "      <td>1977.000000</td>\n",
       "      <td>0.075424</td>\n",
       "      <td>25.000000</td>\n",
       "      <td>5285.000000</td>\n",
       "      <td>2.000000</td>\n",
       "      <td>900.000000</td>\n",
       "      <td>1.000000</td>\n",
       "      <td>3.000000</td>\n",
       "      <td>192794.913406</td>\n",
       "      <td>0.000000</td>\n",
       "      <td>0.000000</td>\n",
       "      <td>-21746.336532</td>\n",
       "      <td>29.970778</td>\n",
       "      <td>-229.207799</td>\n",
       "      <td>0.000000</td>\n",
       "      <td>0.000000</td>\n",
       "      <td>0.000000</td>\n",
       "      <td>0.000000</td>\n",
       "    </tr>\n",
       "    <tr>\n",
       "      <td>75%</td>\n",
       "      <td>12653.000000</td>\n",
       "      <td>76.00000</td>\n",
       "      <td>2.000000</td>\n",
       "      <td>65.803613</td>\n",
       "      <td>41.241412</td>\n",
       "      <td>9.000000</td>\n",
       "      <td>12.000000</td>\n",
       "      <td>17.000000</td>\n",
       "      <td>2001.000000</td>\n",
       "      <td>0.195781</td>\n",
       "      <td>36.000000</td>\n",
       "      <td>7227.000000</td>\n",
       "      <td>5.000000</td>\n",
       "      <td>1015.000000</td>\n",
       "      <td>2.000000</td>\n",
       "      <td>6.000000</td>\n",
       "      <td>249063.801948</td>\n",
       "      <td>0.000000</td>\n",
       "      <td>0.000000</td>\n",
       "      <td>36414.184529</td>\n",
       "      <td>4259.780766</td>\n",
       "      <td>1934.169838</td>\n",
       "      <td>1.000000</td>\n",
       "      <td>0.000000</td>\n",
       "      <td>1.000000</td>\n",
       "      <td>0.000000</td>\n",
       "    </tr>\n",
       "    <tr>\n",
       "      <td>max</td>\n",
       "      <td>16798.000000</td>\n",
       "      <td>209.00000</td>\n",
       "      <td>10.000000</td>\n",
       "      <td>641.065193</td>\n",
       "      <td>638.163193</td>\n",
       "      <td>123.000000</td>\n",
       "      <td>42.000000</td>\n",
       "      <td>48.000000</td>\n",
       "      <td>2020.000000</td>\n",
       "      <td>0.521867</td>\n",
       "      <td>74.000000</td>\n",
       "      <td>19083.000000</td>\n",
       "      <td>141.000000</td>\n",
       "      <td>4849.000000</td>\n",
       "      <td>6.000000</td>\n",
       "      <td>23.000000</td>\n",
       "      <td>625820.041178</td>\n",
       "      <td>1.000000</td>\n",
       "      <td>1.000000</td>\n",
       "      <td>413446.004099</td>\n",
       "      <td>8527.457686</td>\n",
       "      <td>15038.666221</td>\n",
       "      <td>1.000000</td>\n",
       "      <td>1.000000</td>\n",
       "      <td>1.000000</td>\n",
       "      <td>1.000000</td>\n",
       "    </tr>\n",
       "  </tbody>\n",
       "</table>\n",
       "</div>"
      ],
      "text/plain": [
       "                 Id  DistrictId        Rooms       Square   LifeSquare  \\\n",
       "count   6693.000000  6693.00000  6693.000000  6693.000000  6693.000000   \n",
       "mean    8422.656357    50.68355     1.883460    56.139137    35.926626   \n",
       "std     4853.716050    43.37881     0.813725    20.402617    17.743032   \n",
       "min        0.000000     1.00000     0.000000    13.784865    10.523868   \n",
       "25%     4241.000000    21.00000     1.000000    41.818261    26.927493   \n",
       "50%     8427.000000    36.00000     2.000000    52.133425    32.784434   \n",
       "75%    12653.000000    76.00000     2.000000    65.803613    41.241412   \n",
       "max    16798.000000   209.00000    10.000000   641.065193   638.163193   \n",
       "\n",
       "       KitchenSquare        Floor   HouseFloor    HouseYear    Ecology_1  \\\n",
       "count    6693.000000  6693.000000  6693.000000  6693.000000  6693.000000   \n",
       "mean        6.213058     8.488720    12.616614  1984.699686     0.118725   \n",
       "std         4.591082     5.211349     6.596452    18.497453     0.119631   \n",
       "min         1.000000     1.000000     0.000000  1912.000000     0.000000   \n",
       "25%         4.000000     4.000000     9.000000  1973.000000     0.017647   \n",
       "50%         6.000000     7.000000    13.000000  1977.000000     0.075424   \n",
       "75%         9.000000    12.000000    17.000000  2001.000000     0.195781   \n",
       "max       123.000000    42.000000    48.000000  2020.000000     0.521867   \n",
       "\n",
       "          Social_1      Social_2     Social_3  Healthcare_1  Healthcare_2  \\\n",
       "count  6693.000000   6693.000000  6693.000000   6693.000000   6693.000000   \n",
       "mean     24.676229   5334.218587     7.959958   1030.435978      1.333632   \n",
       "std      17.457143   3976.953704    23.729804    746.989418      1.511067   \n",
       "min       0.000000    168.000000     0.000000     30.000000      0.000000   \n",
       "25%       6.000000   1564.000000     0.000000    830.000000      0.000000   \n",
       "50%      25.000000   5285.000000     2.000000    900.000000      1.000000   \n",
       "75%      36.000000   7227.000000     5.000000   1015.000000      2.000000   \n",
       "max      74.000000  19083.000000   141.000000   4849.000000      6.000000   \n",
       "\n",
       "           Shops_1          Price   Ecology_2A   Ecology_3A    component_1  \\\n",
       "count  6693.000000    6693.000000  6693.000000  6693.000000    6693.000000   \n",
       "mean      4.222919  213799.579115     0.011206     0.027491     190.359945   \n",
       "std       4.812960   92530.467344     0.105270     0.163523   92065.507427   \n",
       "min       0.000000   59174.778028     0.000000     0.000000 -154200.819767   \n",
       "25%       1.000000  153997.912192     0.000000     0.000000  -60175.812225   \n",
       "50%       3.000000  192794.913406     0.000000     0.000000  -21746.336532   \n",
       "75%       6.000000  249063.801948     0.000000     0.000000   36414.184529   \n",
       "max      23.000000  625820.041178     1.000000     1.000000  413446.004099   \n",
       "\n",
       "       component_2   component_3  clusters_5_1  clusters_5_2  clusters_5_3  \\\n",
       "count  6693.000000   6693.000000   4702.000000   4702.000000   4702.000000   \n",
       "mean     13.184331     45.805381      0.311144      0.052956      0.298171   \n",
       "std    4870.752138   3884.503025      0.463011      0.223970      0.457504   \n",
       "min   -8479.750242  -7410.505510      0.000000      0.000000      0.000000   \n",
       "25%   -4219.797228  -3201.358835      0.000000      0.000000      0.000000   \n",
       "50%      29.970778   -229.207799      0.000000      0.000000      0.000000   \n",
       "75%    4259.780766   1934.169838      1.000000      0.000000      1.000000   \n",
       "max    8527.457686  15038.666221      1.000000      1.000000      1.000000   \n",
       "\n",
       "       clusters_5_4  \n",
       "count   4702.000000  \n",
       "mean       0.239898  \n",
       "std        0.427066  \n",
       "min        0.000000  \n",
       "25%        0.000000  \n",
       "50%        0.000000  \n",
       "75%        0.000000  \n",
       "max        1.000000  "
      ]
     },
     "execution_count": 16,
     "metadata": {},
     "output_type": "execute_result"
    }
   ],
   "source": [
    "X_train.describe()"
   ]
  },
  {
   "cell_type": "code",
   "execution_count": null,
   "metadata": {},
   "outputs": [],
   "source": [
    "y_pred = rfr.predict(X_test)"
   ]
  },
  {
   "cell_type": "code",
   "execution_count": 223,
   "metadata": {},
   "outputs": [],
   "source": [
    "y_pred = rfr.predict(X_test)"
   ]
  },
  {
   "cell_type": "code",
   "execution_count": 224,
   "metadata": {},
   "outputs": [
    {
     "data": {
      "text/html": [
       "<div>\n",
       "<style scoped>\n",
       "    .dataframe tbody tr th:only-of-type {\n",
       "        vertical-align: middle;\n",
       "    }\n",
       "\n",
       "    .dataframe tbody tr th {\n",
       "        vertical-align: top;\n",
       "    }\n",
       "\n",
       "    .dataframe thead th {\n",
       "        text-align: right;\n",
       "    }\n",
       "</style>\n",
       "<table border=\"1\" class=\"dataframe\">\n",
       "  <thead>\n",
       "    <tr style=\"text-align: right;\">\n",
       "      <th></th>\n",
       "      <th>y_test</th>\n",
       "      <th>y_pred</th>\n",
       "      <th>error</th>\n",
       "    </tr>\n",
       "    <tr>\n",
       "      <th>Id</th>\n",
       "      <th></th>\n",
       "      <th></th>\n",
       "      <th></th>\n",
       "    </tr>\n",
       "  </thead>\n",
       "  <tbody>\n",
       "    <tr>\n",
       "      <td>13326</td>\n",
       "      <td>469497.535186</td>\n",
       "      <td>492455.578930</td>\n",
       "      <td>22958.043744</td>\n",
       "    </tr>\n",
       "    <tr>\n",
       "      <td>6733</td>\n",
       "      <td>182453.436044</td>\n",
       "      <td>194637.265551</td>\n",
       "      <td>12183.829507</td>\n",
       "    </tr>\n",
       "    <tr>\n",
       "      <td>5104</td>\n",
       "      <td>118939.006034</td>\n",
       "      <td>125077.502337</td>\n",
       "      <td>6138.496303</td>\n",
       "    </tr>\n",
       "    <tr>\n",
       "      <td>9371</td>\n",
       "      <td>229778.057902</td>\n",
       "      <td>144995.240209</td>\n",
       "      <td>-84782.817692</td>\n",
       "    </tr>\n",
       "    <tr>\n",
       "      <td>71</td>\n",
       "      <td>329629.767283</td>\n",
       "      <td>379978.137785</td>\n",
       "      <td>50348.370503</td>\n",
       "    </tr>\n",
       "  </tbody>\n",
       "</table>\n",
       "</div>"
      ],
      "text/plain": [
       "              y_test         y_pred         error\n",
       "Id                                               \n",
       "13326  469497.535186  492455.578930  22958.043744\n",
       "6733   182453.436044  194637.265551  12183.829507\n",
       "5104   118939.006034  125077.502337   6138.496303\n",
       "9371   229778.057902  144995.240209 -84782.817692\n",
       "71     329629.767283  379978.137785  50348.370503"
      ]
     },
     "execution_count": 224,
     "metadata": {},
     "output_type": "execute_result"
    }
   ],
   "source": [
    "check_test_rfr = pd.DataFrame({\n",
    "    \"y_test\": y_test[\"Price\"],\n",
    "    \"y_pred\": y_pred.flatten()\n",
    "})\n",
    "\n",
    "check_test_rfr[\"error\"] = check_test_rfr[\"y_pred\"] - check_test_rfr[\"y_test\"]\n",
    "\n",
    "check_test_rfr.head()"
   ]
  },
  {
   "cell_type": "code",
   "execution_count": 225,
   "metadata": {},
   "outputs": [
    {
     "data": {
      "text/plain": [
       "2197064089.6599703"
      ]
     },
     "execution_count": 225,
     "metadata": {},
     "output_type": "execute_result"
    }
   ],
   "source": [
    "mean_squared_error(check_test_rfr[\"y_test\"], check_test_rfr[\"y_pred\"])"
   ]
  },
  {
   "cell_type": "code",
   "execution_count": 226,
   "metadata": {},
   "outputs": [
    {
     "data": {
      "text/plain": [
       "28149.978709448853"
      ]
     },
     "execution_count": 226,
     "metadata": {},
     "output_type": "execute_result"
    }
   ],
   "source": [
    "mean_absolute_error(check_test_rfr[\"y_test\"], check_test_rfr[\"y_pred\"])"
   ]
  },
  {
   "cell_type": "code",
   "execution_count": 227,
   "metadata": {},
   "outputs": [
    {
     "data": {
      "text/plain": [
       "0.7513344703693502"
      ]
     },
     "execution_count": 227,
     "metadata": {},
     "output_type": "execute_result"
    }
   ],
   "source": [
    "r2_score(check_test_rfr[\"y_test\"], check_test_rfr[\"y_pred\"]) "
   ]
  },
  {
   "cell_type": "code",
   "execution_count": 22,
   "metadata": {},
   "outputs": [
    {
     "data": {
      "text/html": [
       "<div>\n",
       "<style scoped>\n",
       "    .dataframe tbody tr th:only-of-type {\n",
       "        vertical-align: middle;\n",
       "    }\n",
       "\n",
       "    .dataframe tbody tr th {\n",
       "        vertical-align: top;\n",
       "    }\n",
       "\n",
       "    .dataframe thead th {\n",
       "        text-align: right;\n",
       "    }\n",
       "</style>\n",
       "<table border=\"1\" class=\"dataframe\">\n",
       "  <thead>\n",
       "    <tr style=\"text-align: right;\">\n",
       "      <th></th>\n",
       "      <th>clusters_5_3</th>\n",
       "      <th>Count</th>\n",
       "    </tr>\n",
       "  </thead>\n",
       "  <tbody>\n",
       "    <tr>\n",
       "      <td>0</td>\n",
       "      <td>0.0</td>\n",
       "      <td>3300.0</td>\n",
       "    </tr>\n",
       "    <tr>\n",
       "      <td>1</td>\n",
       "      <td>1.0</td>\n",
       "      <td>1402.0</td>\n",
       "    </tr>\n",
       "  </tbody>\n",
       "</table>\n",
       "</div>"
      ],
      "text/plain": [
       "   clusters_5_3   Count\n",
       "0           0.0  3300.0\n",
       "1           1.0  1402.0"
      ]
     },
     "execution_count": 22,
     "metadata": {},
     "output_type": "execute_result"
    }
   ],
   "source": [
    "colName = 'clusters_5_3'\n",
    "group = X_train.groupby(colName)\n",
    "df_stat = pd.DataFrame(group.apply(lambda x: x[colName].unique()[0]))\n",
    "df_stat.columns = [colName]\n",
    "df_stat.loc[:,'Count'] = group.apply(lambda x: x[colName].count())\n",
    "df_stat.reset_index(inplace=True, drop=True)\n",
    "df_stat.sort_values(by=colName, axis=0, ascending=True)"
   ]
  },
  {
   "cell_type": "markdown",
   "metadata": {},
   "source": [
    "#### Проверка на перобучение"
   ]
  },
  {
   "cell_type": "code",
   "execution_count": 85,
   "metadata": {},
   "outputs": [],
   "source": [
    "X_train, X_test, y_train, y_test = train_test_split(X, y, test_size=0.3, random_state=42)"
   ]
  },
  {
   "cell_type": "code",
   "execution_count": 86,
   "metadata": {},
   "outputs": [
    {
     "data": {
      "text/plain": [
       "LinearRegression(copy_X=True, fit_intercept=True, n_jobs=None, normalize=False)"
      ]
     },
     "execution_count": 86,
     "metadata": {},
     "output_type": "execute_result"
    }
   ],
   "source": [
    "lr = LinearRegression()\n",
    "lr.fit(X_train, y_train)"
   ]
  },
  {
   "cell_type": "code",
   "execution_count": 87,
   "metadata": {},
   "outputs": [],
   "source": [
    "y_pred = lr.predict(X_test)"
   ]
  },
  {
   "cell_type": "code",
   "execution_count": 88,
   "metadata": {},
   "outputs": [
    {
     "data": {
      "text/html": [
       "<div>\n",
       "<style scoped>\n",
       "    .dataframe tbody tr th:only-of-type {\n",
       "        vertical-align: middle;\n",
       "    }\n",
       "\n",
       "    .dataframe tbody tr th {\n",
       "        vertical-align: top;\n",
       "    }\n",
       "\n",
       "    .dataframe thead th {\n",
       "        text-align: right;\n",
       "    }\n",
       "</style>\n",
       "<table border=\"1\" class=\"dataframe\">\n",
       "  <thead>\n",
       "    <tr style=\"text-align: right;\">\n",
       "      <th></th>\n",
       "      <th>y_test</th>\n",
       "      <th>y_pred</th>\n",
       "      <th>error</th>\n",
       "    </tr>\n",
       "  </thead>\n",
       "  <tbody>\n",
       "    <tr>\n",
       "      <td>4026</td>\n",
       "      <td>469497.535186</td>\n",
       "      <td>297542.288886</td>\n",
       "      <td>-171955.246301</td>\n",
       "    </tr>\n",
       "    <tr>\n",
       "      <td>5417</td>\n",
       "      <td>182453.436044</td>\n",
       "      <td>200109.222128</td>\n",
       "      <td>17655.786084</td>\n",
       "    </tr>\n",
       "    <tr>\n",
       "      <td>488</td>\n",
       "      <td>118939.006034</td>\n",
       "      <td>149672.574743</td>\n",
       "      <td>30733.568709</td>\n",
       "    </tr>\n",
       "    <tr>\n",
       "      <td>39</td>\n",
       "      <td>229778.057902</td>\n",
       "      <td>195960.713426</td>\n",
       "      <td>-33817.344476</td>\n",
       "    </tr>\n",
       "    <tr>\n",
       "      <td>6801</td>\n",
       "      <td>329629.767283</td>\n",
       "      <td>280084.163137</td>\n",
       "      <td>-49545.604146</td>\n",
       "    </tr>\n",
       "  </tbody>\n",
       "</table>\n",
       "</div>"
      ],
      "text/plain": [
       "             y_test         y_pred          error\n",
       "4026  469497.535186  297542.288886 -171955.246301\n",
       "5417  182453.436044  200109.222128   17655.786084\n",
       "488   118939.006034  149672.574743   30733.568709\n",
       "39    229778.057902  195960.713426  -33817.344476\n",
       "6801  329629.767283  280084.163137  -49545.604146"
      ]
     },
     "execution_count": 88,
     "metadata": {},
     "output_type": "execute_result"
    }
   ],
   "source": [
    "check_test_lr = pd.DataFrame({\n",
    "    \"y_test\": y_test[\"Price\"],\n",
    "    \"y_pred\": y_pred.flatten(),\n",
    "})\n",
    "\n",
    "check_test_lr[\"error\"] = check_test_lr[\"y_pred\"] - check_test_lr[\"y_test\"]\n",
    "\n",
    "check_test_lr.head()"
   ]
  },
  {
   "cell_type": "code",
   "execution_count": 89,
   "metadata": {},
   "outputs": [
    {
     "data": {
      "text/plain": [
       "4140000529.2997894"
      ]
     },
     "execution_count": 89,
     "metadata": {},
     "output_type": "execute_result"
    }
   ],
   "source": [
    "mean_squared_error(check_test_lr[\"y_test\"], check_test_lr[\"y_pred\"])"
   ]
  },
  {
   "cell_type": "code",
   "execution_count": 90,
   "metadata": {},
   "outputs": [
    {
     "data": {
      "text/plain": [
       "44766.243398756254"
      ]
     },
     "execution_count": 90,
     "metadata": {},
     "output_type": "execute_result"
    }
   ],
   "source": [
    "mean_absolute_error(check_test_lr[\"y_test\"], check_test_lr[\"y_pred\"])"
   ]
  },
  {
   "cell_type": "code",
   "execution_count": 91,
   "metadata": {},
   "outputs": [
    {
     "data": {
      "text/plain": [
       "0.5314313182148319"
      ]
     },
     "execution_count": 91,
     "metadata": {},
     "output_type": "execute_result"
    }
   ],
   "source": [
    "r2_score(check_test_lr[\"y_test\"], check_test_lr[\"y_pred\"]) "
   ]
  },
  {
   "cell_type": "markdown",
   "metadata": {},
   "source": [
    "Вот, собссно, как-то так..."
   ]
  }
 ],
 "metadata": {
  "kernelspec": {
   "display_name": "Python 3",
   "language": "python",
   "name": "python3"
  },
  "language_info": {
   "codemirror_mode": {
    "name": "ipython",
    "version": 3
   },
   "file_extension": ".py",
   "mimetype": "text/x-python",
   "name": "python",
   "nbconvert_exporter": "python",
   "pygments_lexer": "ipython3",
   "version": "3.7.4"
  }
 },
 "nbformat": 4,
 "nbformat_minor": 2
}
